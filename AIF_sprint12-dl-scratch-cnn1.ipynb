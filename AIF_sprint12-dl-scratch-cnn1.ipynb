{
 "cells": [
  {
   "cell_type": "markdown",
   "metadata": {},
   "source": [
    "## 課題提出時（2018/11/28）の所感\n",
    "最初、MNIST対応を考えていましたが、サンプルデータだけに対応することを目指して、一次元の畳み込みを体感できれば良いとのことでしたのでその対応を行いました。一部ハードコードしてしまっている箇所がありますが、np.array（L78,80）でインデックスの指定方法があることを学べましたのでよかったです。一旦こちらで提出します。\n",
    "\n",
    "オプションは対応しておりません。"
   ]
  },
  {
   "cell_type": "markdown",
   "metadata": {},
   "source": [
    "# 1.この課題の目的\n",
    "・スクラッチを通してCNNの基礎を理解する  \n",
    "\n",
    "【目的としないこと】  \n",
    "・実用的なCNNモデルに関する知識の習得\n",
    "\n",
    "# 2.進め方\n",
    "・1次元畳み込み層をスクラッチで実装する。（1日目〜2日目）  \n",
    "sprint13も引き続きCNNを扱う。sprint12では1次元畳み込み層をスクラッチで作成し、畳み込みの基礎を理解することを目指す。sprint13で2次元畳み込み層とプーリング層を作成し、CNNの全体を理解する。説明課題もsprint13で行う\n",
    "\n",
    "# 3.スクラッチによる実装\n",
    "NumPyなど最低限のライブラリのみを使いアルゴリズムを実装していく。TensorFlowなどは使用しない。\n",
    "sprint10で作成したディープニューラルネットワークを拡張する形で作成する。\n",
    "\n",
    "## 今回確認するPythonのスキル\n",
    "・ndarrayの配列を使用したインデックス指定方法\n",
    "\n",
    "## 1次元畳み込み層\n",
    "画像に対する畳み込みは通常2次元畳み込みを行うが、sprint12ではまず1次元畳み込みを実装する。段階的に複雑なものに挑戦していくことにする。\n",
    "\n",
    "なお、通常1次元畳み込みは系列データで使われることが多い。畳み込みは任意の次元に対して考えることができ、立体データに対しての3次元畳み込みまではフレームワークに一般的に用意されている。\n",
    "\n",
    "## データセットの用意\n",
    "画像に対する畳み込みは通常2次元畳み込みを行うが、sprint12ではまず1次元畳み込みを実装する。段階的に複雑なものに挑戦していくことにする。\n",
    "\n",
    "なお、通常1次元畳み込みは系列データで使われることが多い。畳み込みは任意の次元に対して考えることができ、立体データに対しての3次元畳み込みまではフレームワークに一般的に用意されている。"
   ]
  },
  {
   "cell_type": "code",
   "execution_count": 52,
   "metadata": {},
   "outputs": [],
   "source": [
    "import numpy as np\n",
    "x = np.array([1,2,3,4])\n",
    "w = np.array([3,5,7])\n",
    "b = np.array([1])\n",
    "\n",
    "loss = np.array([10, 20])\n",
    "y = np.array([25, 30])"
   ]
  },
  {
   "cell_type": "code",
   "execution_count": 53,
   "metadata": {},
   "outputs": [],
   "source": [
    "import numpy as np\n",
    "\n",
    "# sprint10のFCクラスに相当\n",
    "class SimpleConv1d:\n",
    "    \n",
    "    def __init__(self):\n",
    "        # 予測値\n",
    "        self.y_pred = []\n",
    "        \n",
    "        # 勾配\n",
    "        self.dB = None # バイアスの勾配\n",
    "        self.dW = None # 重みの勾配\n",
    "        self.delta = None # 受け取った勾配\n",
    "        self.dx = None # 後ろに流す勾配\n",
    "        \n",
    "        # \n",
    "        self.P = 0  # パディング数\n",
    "        self.S = 1 # ストライド数\n",
    "        self.F = None # フィルタ数\n",
    "        self.N_in = None # 入力のサイズ（特徴量の数）\n",
    "        self.N_out = None # 出力のサイズ（特徴量の数）\n",
    "        \n",
    "        # 入力値・重み\n",
    "        self.x = None\n",
    "        self.w = None\n",
    "        \n",
    "    def forward(self,x, w, b):\n",
    "        \n",
    "        self.x = x\n",
    "        self.w = w\n",
    "\n",
    "        # 入力サイズ（特徴量の数）・・・今回は4になる\n",
    "        self.N_in = x.shape[0]\n",
    "        \n",
    "        # フィルターサイズ＝重みのサイズ・・・今回は3になる\n",
    "        self.F = self.w.shape[0]\n",
    "\n",
    "        # 1次元畳み込み後の出力サイズ　・・・今回は２になる\n",
    "        self.N_out = ((self.N_in + 2*self.P - self.F) / self.S) + 1\n",
    "        self.N_out = int(self.N_out)\n",
    "        \n",
    "        for i in range(int(self.N_out)): # i  :  0~2(F=3の場合)\n",
    "            self.y_pred.append(np.dot(x[i : self.F+i], self.w.T) + b)\n",
    "        \n",
    "        # 予測値\n",
    "        self.y_pred = np.array(self.y_pred)\n",
    "        \n",
    "    \n",
    "    def backward(self, delta):\n",
    "        \"\"\"\n",
    "        dA : 後ろから流れてきた勾配\n",
    "        dZ : 前に流す勾配 \n",
    "        \"\"\"     \n",
    "        self.dW = np.zeros(self.F)\n",
    "        self.dx = []\n",
    "        \n",
    "        # バイアスは加算して流す\n",
    "        self.dB = np.sum(delta)\n",
    "        self.dB = np.array([self.dB])\n",
    "        \n",
    "        # 重みパラメータの算出（フィルタのサイズでループを回す）　self.N_out = 2\n",
    "        for i in range(self.N_out):\n",
    "            self.dW[i] = np.dot(delta, self.x[i : self.N_out+i])\n",
    "            \n",
    "        # self.N_in = 4  入力の特徴量の数\n",
    "        for i in range(self.N_in):\n",
    "            # 最初の行の処理\n",
    "            if i == 0:\n",
    "                self.dx.append(delta[i]*self.w[i])                \n",
    "            \n",
    "            # 最後の行の処理\n",
    "            elif i == self.N_in-1:\n",
    "                self.dx.append(delta[-1]*self.w[i-1])\n",
    "                \n",
    "            # 真ん中の行の処理\n",
    "            else:\n",
    "                # ハードコードになってしまっている。。\n",
    "                indexces = np.array([i,i-1])\n",
    "                #indexces = np.arange(i,i-1])\n",
    "                self.dx.append(np.dot(delta.T, self.w[indexces]))\n",
    "        \n",
    "        self.dx = np.array(self.dx, dtype=int)\n",
    "        self.dx = self.dx.T.flatten()\n",
    "        self.dW = np.array(self.dW, dtype=int)\n",
    "        \n",
    "        return self.dB, self.dW,self.dx"
   ]
  },
  {
   "cell_type": "code",
   "execution_count": 54,
   "metadata": {},
   "outputs": [
    {
     "data": {
      "text/plain": [
       "(array([30]), array([50, 80,  0]), array([ 30, 110, 170, 140]))"
      ]
     },
     "execution_count": 54,
     "metadata": {},
     "output_type": "execute_result"
    }
   ],
   "source": [
    "sc = SimpleConv1d()\n",
    "sc.forward(x, w, b)\n",
    "sc.backward(loss)"
   ]
  },
  {
   "cell_type": "markdown",
   "metadata": {},
   "source": [
    "# （オプション）実装上のさらなる工夫\n",
    "タイムオーバーで出来ておりません"
   ]
  },
  {
   "cell_type": "code",
   "execution_count": null,
   "metadata": {},
   "outputs": [],
   "source": [
    "# shape(2,4)で、（入力チャンネル数、特徴量数）である。\n",
    "x_option = np.array([[1,2,3,4],[2,3,4,5]])\n",
    "\n",
    "# 例を簡略化するため全て1とする。\n",
    "# （出力チャンネル数、入力チャンネル数、フィルタサイズ）である。\n",
    "w_option = np.ones((3,2,3))\n",
    "\n",
    "# （出力チャンネル数）\n",
    "b_option = np.array([1,2,3])\n",
    "\n",
    "# 出力は次のようになる\n",
    "# shape(3,2)で（出力チャンネル数、特徴量数）である。\n",
    "a = np.array([[16,22],[17,23],[18,24]])\n"
   ]
  }
 ],
 "metadata": {
  "kernelspec": {
   "display_name": "Python 3",
   "language": "python",
   "name": "python3"
  },
  "language_info": {
   "codemirror_mode": {
    "name": "ipython",
    "version": 3
   },
   "file_extension": ".py",
   "mimetype": "text/x-python",
   "name": "python",
   "nbconvert_exporter": "python",
   "pygments_lexer": "ipython3",
   "version": "3.6.6"
  },
  "toc": {
   "base_numbering": 1,
   "nav_menu": {},
   "number_sections": false,
   "sideBar": true,
   "skip_h1_title": false,
   "title_cell": "Table of Contents",
   "title_sidebar": "Contents",
   "toc_cell": false,
   "toc_position": {},
   "toc_section_display": true,
   "toc_window_display": false
  }
 },
 "nbformat": 4,
 "nbformat_minor": 2
}
