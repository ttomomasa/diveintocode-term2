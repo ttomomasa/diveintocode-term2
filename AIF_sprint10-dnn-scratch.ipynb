{
 "cells": [
  {
   "cell_type": "markdown",
   "metadata": {},
   "source": [
    "## 課題提出時（2018/11/25）の所感\n",
    "sprint9で勾配降下法を学びましたが、sprint10では拡張性のあるclass化の考え方（オブジェクト思考）を学べて非常に勉強になったsprintでした。この課題の目的は達成できたのでは無いかと思います。  \n",
    "\n",
    "<教えていただきたいこと>  \n",
    "・House Pricesの回帰の方では、dropoutの実装も入れてみましたが、この実装で問題無いかどうか。ちなみにPredictの方には入れていません。  \n",
    "・MNISTの分類では、lossの下がり具合がイマイチでした。Sprint9の時はうまく行っていましたが原因が分かりませんでした。また、accuracy_scoreがうまく実行されませんでした。こちらも原因がわかりませんでした。  \n",
    "\n",
    "<出来ていないこと>  \n",
    "・層の数を変えた場合の検証（実装できたのは３層だけでした）  \n",
    "・複数の活性化関数の実装ができなかった（今回は「tanh」だけでした）  \n",
    "・複数の重みの初期化の実装ができなかった  \n",
    "・複数の最適化の実装ができなかった（今回はSGDだけ）  "
   ]
  },
  {
   "cell_type": "markdown",
   "metadata": {},
   "source": [
    "# 1.この課題の目的\n",
    "・スクラッチを通してニューラルネットワークの発展的内容を理解する  \n",
    "・コードをオブジェクト指向で書き換える経験をする \n",
    "\n",
    "# 2.進め方\n",
    "・スクラッチで実装する。（1日目〜2日目）  \n",
    "・手法の説明を記述する。（2日目夜発表）  \n",
    "\n",
    "# 3.スクラッチによる実装\n",
    "NumPyなど最低限のライブラリのみを使いアルゴリズムを実装していく。TensorFlowなどは使用しない。\n",
    "\n",
    "前回のsprint9で作成した3層のニューラルネットワークを、クラスを活用することで、任意の構成に拡張しやすいコードに書き換えていく。その上で、活性化関数や初期値、最適化手法について発展的なものを扱えるようにしていく。\n",
    "\n",
    "今回確認する  \n",
    "・オブジェクト指向"
   ]
  },
  {
   "cell_type": "markdown",
   "metadata": {},
   "source": [
    "データセットの用意  \n",
    "MNISTデータセットを使用する。以下のコードを実行すればscikit-learnによりデータセットをダウンロードし、展開まで行える。はじめて実行した際に、mnist_dirで指定した場所にファイルがダウンロードされる。"
   ]
  },
  {
   "cell_type": "markdown",
   "metadata": {},
   "source": [
    "# 活性化関数"
   ]
  },
  {
   "cell_type": "code",
   "execution_count": 1,
   "metadata": {},
   "outputs": [],
   "source": [
    "# 活性化関数\n",
    "class ReLU:\n",
    "    \n",
    "    def __init__(self):\n",
    "        #mask\n",
    "        pass\n",
    "        \n",
    "    def forward(self, x):\n",
    "        return np.maximum(0, x)\n",
    "    \n",
    "    def backward(self, x):\n",
    "        return np.where(x > 0, 1, 0)\n",
    "    "
   ]
  },
  {
   "cell_type": "code",
   "execution_count": 2,
   "metadata": {},
   "outputs": [],
   "source": [
    "# 活性化関数\n",
    "class Tanh:\n",
    "    \n",
    "    def __init__(self):\n",
    "        self.forward_A = None\n",
    "    \n",
    "    def forward(self, x):\n",
    "        # backwardの時に必要なのでインスタンス変数として保持\n",
    "        self.forward_A = x\n",
    "        return np.tanh(x)\n",
    "    \n",
    "    def backward(self, delta):\n",
    "        # ∂L/∂A2 = ∂L/∂z2 * (1 - tanh(A2)**2)\n",
    "        #(10, 200) アダマール積 (10, 200) => (10, 200)\n",
    "        delta = delta * (1 - np.tanh(self.forward_A)**2)\n",
    "        return  delta"
   ]
  },
  {
   "cell_type": "code",
   "execution_count": 3,
   "metadata": {},
   "outputs": [],
   "source": [
    "# 出力層の活性化関数\n",
    "# ソフトマックス関数（MNIST用）\n",
    "class Softmax:\n",
    "    def __init__(self):\n",
    "        self.forward_A = None\n",
    "        self.y_pred = None\n",
    "        \n",
    "    def forward(self,x):\n",
    "        self.forward_A = x\n",
    "        if x.ndim == 2:\n",
    "            x = x.T\n",
    "            x = x - np.max(x, axis=0)\n",
    "            y = np.exp(x) / np.sum(np.exp(x), axis=0)\n",
    "            self.y_pred = y.T\n",
    "        else:\n",
    "            x = x - np.max(x)\n",
    "            self.y_pred = np.exp(x) / np.sum(np.exp(x))\n",
    "        return self.y_pred\n",
    "    \n",
    "    def backward(self, delta):\n",
    "        delta = self.y_pred - delta\n",
    "        return delta"
   ]
  },
  {
   "cell_type": "markdown",
   "metadata": {},
   "source": [
    "# Optimizer（最適化手法のクラス化）\n",
    "初期化方法同様に全結合層にインスタンスとして渡したい。  \n",
    "バックワードの時にself = self.optimizer.update(self)のように更新できるようにする。"
   ]
  },
  {
   "cell_type": "code",
   "execution_count": 4,
   "metadata": {},
   "outputs": [],
   "source": [
    "class SGD:\n",
    "    \"\"\"\n",
    "    確率的勾配降下法\n",
    "    lr  :  学習率\n",
    "    \"\"\"\n",
    "    def __init__(self, lr=0.001):\n",
    "        self.lr = lr\n",
    "    \n",
    "    \n",
    "    \"\"\"\n",
    "    ある層の重みやバイアスの更新\n",
    "    --------------\n",
    "    layer   :   更新前の層のインスタンス\n",
    "    layer   :   更新後の層のインスタンス\n",
    "    \"\"\"\n",
    "    def update(self, layer):\n",
    "        \n",
    "        layer.W = layer.W - self.lr * layer.dW / layer.dB.shape[0]\n",
    "        layer.B = layer.B - self.lr * layer.dB.mean(axis=0)\n",
    "        \n",
    "        return layer"
   ]
  },
  {
   "cell_type": "code",
   "execution_count": 5,
   "metadata": {},
   "outputs": [],
   "source": [
    "class AdaGrad:\n",
    "    def __init__():\n",
    "        self.lr = 0.001\n",
    "        \n",
    "    def update():\n",
    "        pass    "
   ]
  },
  {
   "cell_type": "markdown",
   "metadata": {},
   "source": [
    "# 目的関数（損失関数）"
   ]
  },
  {
   "cell_type": "code",
   "execution_count": 6,
   "metadata": {},
   "outputs": [],
   "source": [
    "# 平均2乗和誤差\n",
    "import numpy as np\n",
    "\n",
    "class MeanSquardError:\n",
    "    def __init__(self):\n",
    "        pass\n",
    "    \n",
    "    def mse(self, y, y_pred):\n",
    "        # y  :  正解ラベル\n",
    "        # y_pred  :  予測値\n",
    "        #print(\"aaaa\")\n",
    "        #print(\"y.shape, y_pred.shape\",y.shape, y_pred.shape)\n",
    "        return np.mean((y - y_pred)**2)/2\n",
    "        #print(y-y_pred)\n",
    "        #return np.average((y - y_pred)**2)\n",
    "        # lenで割ってはだめです。sumが要素全てを加算しているので。回帰の場合であればyのshapeが（X,）なので問題ないが、\n",
    "        # 分類問題は扱えないので\n",
    "        #return np.sum((y - y_pred)**2) / len(y)\n",
    "    \n",
    "    def backward(self, y, y_pred):\n",
    "        return y_pred - y"
   ]
  },
  {
   "cell_type": "code",
   "execution_count": 7,
   "metadata": {},
   "outputs": [],
   "source": [
    "# 交差エントロピー誤差\n",
    "class CrossEntropyError:\n",
    "    def __init__(self):\n",
    "        pass\n",
    "    \n",
    "    def cee(self, y_pred, y_train):\n",
    "        if y_pred.ndim == 1:\n",
    "            y_train = y_train.reshape(1, y_train.size)\n",
    "            y_pred = y_pred.reshape(1, y_pred.size)\n",
    "    \n",
    "        batch_size = y_pred.shape[0]\n",
    "        #ミニバッチ単位の損失\n",
    "        return -np.sum(y_train * np.log(y_pred + 1e-7)) / batch_size\n",
    "    \n",
    "#     def backward(self, y, y_pred):\n",
    "#         return y_pred - y"
   ]
  },
  {
   "cell_type": "markdown",
   "metadata": {},
   "source": [
    "# Initializer（初期化）\n",
    "全結合層のコンストラクタに初期化方法のインスタンスを渡したい。"
   ]
  },
  {
   "cell_type": "code",
   "execution_count": 8,
   "metadata": {},
   "outputs": [],
   "source": [
    "class SimpleInitializer:\n",
    "    \n",
    "    \"\"\"\n",
    "    ガウス分布によるシンプルな初期化\n",
    "    sigma  :  float\n",
    "    \"\"\"\n",
    "    def __init__(self, sigma):\n",
    "        self.sigma = sigma\n",
    "    \n",
    "    \"\"\"\n",
    "    重みの初期化メソッド\n",
    "    n_nodes1 :  int   前の層のノード数\n",
    "    n_nodes2 :  int　　　後の層のノード数\n",
    "    \"\"\"\n",
    "    def W(self, n_nodes1, n_nodes2):\n",
    "        # 重み（n_nodes1　×　n_nodes2の配列を作成）\n",
    "        #W = self.sigma*np.random.randn(n_nodes1, n_nodes2)\n",
    "        W = self.sigma*np.random.rand(n_nodes1, n_nodes2)\n",
    "        return W\n",
    "    \n",
    "    \"\"\"\n",
    "    バイアスの初期化メソッド\n",
    "    n_nodes2  :  int  後の層のノード数\n",
    "    \"\"\"\n",
    "    def B(self, n_nodes2):\n",
    "        # バイアス\n",
    "        #B = self.sigma*np.random.randn(n_nodes2)\n",
    "        B = self.sigma*np.random.rand(n_nodes2)\n",
    "        #print(\"いつ変わった？？\",B.shape)\n",
    "        return B"
   ]
  },
  {
   "cell_type": "code",
   "execution_count": 9,
   "metadata": {},
   "outputs": [],
   "source": [
    "class XavierInitializer:\n",
    "    def __init__(self):\n",
    "        pass"
   ]
  },
  {
   "cell_type": "code",
   "execution_count": 10,
   "metadata": {},
   "outputs": [],
   "source": [
    "class HeInitializer:\n",
    "    def __init__(self):\n",
    "        pass\n",
    "    \n",
    "    def W():\n",
    "        pass\n",
    "    \n",
    "    def B():\n",
    "        pass"
   ]
  },
  {
   "cell_type": "markdown",
   "metadata": {},
   "source": [
    "# ミニバッチ"
   ]
  },
  {
   "cell_type": "code",
   "execution_count": 11,
   "metadata": {},
   "outputs": [],
   "source": [
    "class GetMiniBatch():\n",
    "    \"\"\"\n",
    "    ミニバッチを取得するイテレータ\n",
    "    \n",
    "    Parameters\n",
    "    ---------------------\n",
    "    X　:　学習データ\n",
    "    y　:　正解値\n",
    "    batch_size : int\n",
    "    seed : int　　　NumPyの乱数のシード\n",
    "    \n",
    "    ---------------------\n",
    "    for文で呼び出すと以下の２つを返す\n",
    "    mini_X  : 学習データのミニバッチ \n",
    "    mini_y  : 正解値のミニバッチ\n",
    "    \"\"\"\n",
    "    \n",
    "    def __init__(self, X, y, batch_size=10, seed=0):\n",
    "        \n",
    "        # バッチサイズを指定\n",
    "        self.batch_size = batch_size\n",
    "        \n",
    "        # ランダムに並べ換える\n",
    "        np.random.seed(seed)\n",
    "        \n",
    "        # 48,000行、列？のベクトルが作成される\n",
    "        # 中身は1から48,000の整数値がランダムにセットされる\n",
    "        # なるほど、名前からしてそうだね。シャッフルインデックス。。\n",
    "        #print(\"testコード\", X.shape[0])\n",
    "        shuffle_index = np.random.permutation(np.arange(X.shape[0]))\n",
    "        \n",
    "        self.X = X[shuffle_index]\n",
    "        self.y = y[shuffle_index]\n",
    "        self._counter = 0\n",
    "        \n",
    "        # イテレーション数を計算する\n",
    "        # 48,000行/10 = 4,800回となる\n",
    "        # np.ceilは切り上げする関数\n",
    "        self._stop = np.ceil(X.shape[0]/self.batch_size).astype(np.int)\n",
    "        \n",
    "    def __len__(self):\n",
    "        # len()が使われたときの処理\n",
    "        return self._stop\n",
    "        \n",
    "    def __iter__(self):\n",
    "        return self\n",
    "        \n",
    "    def __next__(self):\n",
    "            \n",
    "        # for文で呼ばれた際のループごとの処理\n",
    "        if self._counter >= self._stop:\n",
    "                \n",
    "            # 最後まで進んだら終了\n",
    "            self._counter = 0 # カウンターをリセット\n",
    "            raise StopIteration()\n",
    "        \n",
    "        \n",
    "        p0 = self._counter*self.batch_size\n",
    "        p1 = self._counter*self.batch_size + self.batch_size\n",
    "            \n",
    "        self._counter = self._counter + 1\n",
    "            \n",
    "        return self.X[p0:p1], self.y[p0:p1]\n",
    "        "
   ]
  },
  {
   "cell_type": "markdown",
   "metadata": {},
   "source": [
    "# 全結合層"
   ]
  },
  {
   "cell_type": "code",
   "execution_count": 12,
   "metadata": {},
   "outputs": [],
   "source": [
    "class Full_Connection:\n",
    "    \"\"\"\n",
    "    ノード数n_nodes1からn_nodes2への全結合層\n",
    "    n_nodes1 :  int\n",
    "    n_nodes2 :  int\n",
    "    initializer :  初期化方法のインスタンス\n",
    "    optimizer : 最適化手法のインスタンス\n",
    "    \"\"\"\n",
    "    \n",
    "    # コンストラクタで重みやバイアスの初期化をする\n",
    "    def __init__(self, n_nodes1, n_nodes2, initializer, optimizer):\n",
    "\n",
    "        # 全結合層のコンストラクタに初期化方法のインスタンスを渡したい\n",
    "        # ノード数を保持する\n",
    "        self.n_nodes1 = n_nodes1\n",
    "        self.n_nodes2 = n_nodes2\n",
    "        self.sigma = initializer.sigma\n",
    "        \n",
    "        # initializerのメソッドを使い、self.Wとself.Bを初期化する\n",
    "        # 重み・バイアスを初期化\n",
    "        self.W = initializer.W(self.n_nodes1, self.n_nodes2)\n",
    "        #print(\"doudesuka\",n_nodes2)\n",
    "        self.B = initializer.B(self.n_nodes2)\n",
    "        #print(\"★★★★★★★\",self.B.shape)\n",
    "        \n",
    "        # 引数で受け取ったoptimizer（最適化クラス）をインスタンス変数として持つ\n",
    "        self.optimizer = optimizer\n",
    "        \n",
    "        # ここで初期化が必要。。\n",
    "        self.X = None\n",
    "        self.dB = None\n",
    "        self.dW = None\n",
    "        self.A = None\n",
    "        \n",
    "        # ドロップアウト用\n",
    "        self.mask = None\n",
    "        self.dropout_ratio = 0.5\n",
    "    \n",
    "    def forward(self, X):\n",
    "        \"\"\"\n",
    "        X  :  配列とシェイプ  （batch_size,  n_nodes1）\n",
    "        A  :  配列とシェイプ  （batch_size, n_nodes2）\n",
    "        \"\"\"\n",
    "        \"\"\"\n",
    "        ドロップアウトする要素（False）としない要素（True）に分ける\n",
    "        \"\"\"\n",
    "        self.X = X.copy()\n",
    "        self.mask = np.random.rand(*self.X.shape) > self.dropout_ratio\n",
    "        self.X = self.X * self.mask\n",
    "        \n",
    "        # 入力Xをインスタンス変数として保持\n",
    "        self.X = X.copy()\n",
    "        \n",
    "        # 全結合はここで定義している\n",
    "        self.A = np.dot(self.X, self.W) + self.B\n",
    "        \n",
    "        return self.A\n",
    "\n",
    "    \n",
    "    def backward(self, dA):\n",
    "        \n",
    "        \"\"\"\n",
    "        dA  :  後ろから流れてきた勾配(batch_size, n_nodes2)\n",
    "        dZ  :   前に流す勾配　（batch_size, n_nodes1）\n",
    "        \"\"\"\n",
    "        # バイアスの勾配は、forward時に加算演算なので、\n",
    "        # 前から受け取った勾配をそもまま利用する\n",
    "        self.dB = dA\n",
    "        \n",
    "        # forward時に活性化関数を通ったXを利用する。Zに相当する\n",
    "        # 前から受け取ったもdAと、dot積をとる。ひっくり返すところの処理。乗算演算なので\n",
    "        self.dW = np.dot(self.X.T, dA)\n",
    "        \n",
    "        # 後ろに流す勾配\n",
    "        dZ = np.dot(dA, self.dW.T)\n",
    "        \n",
    "        # 引数として自身のインスタンスselfを渡すこともできる\n",
    "        # 層の重みの更新が可能である\n",
    "        # self.optimizer.update(self)だけでもOK\n",
    "        # 各層のbackwardの処理の中で、重みパラメータとバイアスを更新する処理です\n",
    "        # sprint9の時は最後にまとめて更新していたが、その層の重みとバイアスが求まったタイミングでリアルタイムで更新する\n",
    "        # また、ここでselfに代入しなくても動作するらしいです。\n",
    "        #print(\"fcで最適化する\")\n",
    "        self = self.optimizer.update(self)        \n",
    "        \n",
    "        return dZ\n",
    "    \n",
    "    def dropout():        \n",
    "        pass"
   ]
  },
  {
   "cell_type": "markdown",
   "metadata": {},
   "source": [
    "# Trainer"
   ]
  },
  {
   "cell_type": "code",
   "execution_count": 13,
   "metadata": {},
   "outputs": [],
   "source": [
    "# DNNスクラッチ回帰\n",
    "class ScratchDeepNeuralNetworkRegressor:\n",
    "    def __init__(self, n_epochs, batch_size, lr, sigma, n_nodes1, n_nodes2, n_output):\n",
    "        self.n_epochs    =  n_epochs    # エポック数\n",
    "        self.batch_size  = batch_size   #バッチサイズ\n",
    "        self.lr                  =  lr                   # 学習率\n",
    "        self.sigma          =  sigma            # シグマ\n",
    "        self.n_nodes1   =  n_nodes1    # 1層目のノード数\n",
    "        self.n_nodes2   =  n_nodes2    # 2層目のノード数\n",
    "        self.n_output    = n_output      # 出力層のノード数\n",
    "        self.loss             =  None\n",
    "        self.val_loss     =  None\n",
    "        \n",
    "        self.loss_list = []\n",
    "        self.epoch_loss_list = []\n",
    "        \n",
    "        #　入力層の特徴量（今回は2種類）\n",
    "        # fitの中でインスタンス変数を定義するためには、ここで事前に定義する必要がある\n",
    "        self.n_features = None\n",
    "        \n",
    "        self.fc1 = None\n",
    "        self.fc2 = None\n",
    "        self.fc3 = None\n",
    "        \n",
    "        self.activation1 = None\n",
    "        self.activation2 = None\n",
    "        self.activation3 = None\n",
    "        \n",
    "        self.tomo = None\n",
    "    \n",
    "    def fit(self, X, y, X_val=None, y_val=None):\n",
    "\n",
    "        #print(\"testコード0---\", y.shape)\n",
    "        #y = y[:, np.newaxis]\n",
    "        #print(\"testコード0---\", y.shape)        \n",
    "        \n",
    "        # ミニバッチ単位で処理する\n",
    "        train_batch = GetMiniBatch(X, y, batch_size=self.batch_size, seed=0)\n",
    "        #test_batch = GetMiniBatch(X_val, y_val, batch_size=self.batch_size, seed=0)\n",
    "        \n",
    "        #print(\"testコード01---\", y_val.shape)\n",
    "        #y_val = y_val[:, np.newaxis]\n",
    "        #print(\"testコード01---\", y_val.shape)\n",
    "        \n",
    "        # 最適化関数（オプティマイザー）クラスをインスタンス化する\n",
    "        optimizer = SGD(self.lr)\n",
    "\n",
    "        # fitを呼び出す時に、ここで特徴量を把握すれば、コンストラクタでわざわざ定義しなくても良い\n",
    "        self.n_features = X.shape[1]        \n",
    "\n",
    "        # インスタンス化（開始） ########################################\n",
    "        # for文の外でインスタンス化しないと、いけないはず\n",
    "        # for文の中でインスタンス化してしまうと、ループで毎回初期化されて、\n",
    "        # backwardでforward時のA(=X・W+B)を使えなくなってしまうから\n",
    "        \n",
    "        # 1層目\n",
    "        # 全結合層クラスをインスタンス化する\n",
    "        # SimpleInitializerを引数の中でクラスを呼んでいる理由は、各層で異なる初期値を与えて上げることができるため\n",
    "        # optimizerを全結合で\n",
    "        self.fc1 = Full_Connection(self.n_features, self.n_nodes1, SimpleInitializer(self.sigma), optimizer)\n",
    "        # 活性化関数クラスをインスタンス化する\n",
    "        self.activation1 = Tanh()\n",
    "        #self.activation1 = ReLU()\n",
    "        \n",
    "        \n",
    "        # 2層目\n",
    "        # 全結合層クラスをインスタンス化する\n",
    "        self.fc2 = Full_Connection(self.n_nodes1, self.n_nodes2, SimpleInitializer(self.sigma), optimizer)\n",
    "        # 活性化関数クラスをインスタンス化する\n",
    "        self.activation2 = Tanh()\n",
    "        #self.activation2 = ReLU()\n",
    "        \n",
    "        # 3層目\n",
    "        # 全結合層クラスをインスタンス化する\n",
    "        self.fc3 = Full_Connection(self.n_nodes2, self.n_output, SimpleInitializer(self.sigma), optimizer)\n",
    "        \n",
    "        # 平均二乗誤差クラスをインスタンス化する\n",
    "        self.activation3 = MeanSquardError()\n",
    "        # インスタンス化（終了） ########################################\n",
    "        \n",
    "                \n",
    "        # エポック単位のループ\n",
    "        for epoch in range(self.n_epochs):\n",
    "                       \n",
    "            # ミニバッチ単位のループ\n",
    "            #a = 0\n",
    "            for mini_X_train, mini_y_train in train_batch:      \n",
    "                #a = a +1\n",
    "                # フォワード ########################################\n",
    "                # 1層目\n",
    "                # 全結合層（A = X・W + B）\n",
    "                #print(\"testcode1\",mini_X_train.shape)\n",
    "                A1 = self.fc1.forward(mini_X_train)\n",
    "                # 活性化関数（Z = 活性化関数（A））\n",
    "                Z1 = self.activation1.forward(A1)\n",
    "\n",
    "                # 2層目\n",
    "                # 全結合層（A = Z・W + B）\n",
    "                A2 = self.fc2.forward(Z1)\n",
    "                # 活性化関数（Z = 活性化関数（A））\n",
    "                Z2 = self.activation2.forward(A2)\n",
    "\n",
    "                # 3層目\n",
    "                # 全結合層（A = Z・W + B）\n",
    "                A3 = self.fc3.forward(Z2)\n",
    "                # 活性化関数（Z = 活性化関数（A））　　・・・回帰の時は恒等関数\n",
    "                Z3 = A3\n",
    "                \n",
    "                self.loss = self.activation3.mse(mini_y_train, Z3)\n",
    "                self.loss_list.append(self.loss)\n",
    "\n",
    "                # バックワード ########################################\n",
    "                # 3層目\n",
    "                # 平均2乗誤差のバックワード\n",
    "                dA3 = self.activation3.backward(mini_y_train, Z3)\n",
    "                # 全結合層のバックワード\n",
    "                dZ2 = self.fc3.backward(dA3)\n",
    "\n",
    "                # 2層目\n",
    "                # 活性化関数のバックワード\n",
    "                dA2 = self.activation2.backward(dZ2)\n",
    "                # 全結合層のバックワード\n",
    "                dZ1 = self.fc2.backward(dA2)\n",
    "\n",
    "                # 1層目\n",
    "                # 活性化関数のバックワード\n",
    "                dA1 = self.activation1.backward(dZ1)\n",
    "                # 全結合層のバックワード\n",
    "                dZ0 = self.fc1.backward(dA1)\n",
    "            \n",
    "            #print(a)\n",
    "            self.epoch_loss_list.append(self.loss)\n",
    "    \n",
    "    def predict(self, X):\n",
    "        \n",
    "        # 1層目  ############################################\n",
    "        A1 = self.fc1.forward(X)\n",
    "        # この時点ではOK\n",
    "        #print(A1.shape) # (292, 500)\n",
    "        #print(A1) # バラバラな値である\n",
    "        self.tomo = A1\n",
    "        \n",
    "        Z1 = self.activation1.forward(A1)\n",
    "        #print(Z1.shape) # (292, 500)\n",
    "        #print(Z1)\n",
    "\n",
    "        # 2層目  ############################################\n",
    "        A2 = self.fc2.forward(Z1)\n",
    "        #print(A2.shape)\n",
    "        #print(A2)\n",
    "        \n",
    "        Z2 = self.activation2.forward(A2)\n",
    "        #print(\"Z2.shape : \",Z2.shape)\n",
    "        #print(Z2)\n",
    "        #print(np.unique(Z2))\n",
    "\n",
    "        # 3層目  ############################################\n",
    "        A3 = self.fc3.forward(Z2)\n",
    "        #print(A3.shape)\n",
    "        Z3 = A3\n",
    "        \n",
    "        return Z3"
   ]
  },
  {
   "cell_type": "markdown",
   "metadata": {},
   "source": [
    "## データ準備"
   ]
  },
  {
   "cell_type": "code",
   "execution_count": 14,
   "metadata": {},
   "outputs": [
    {
     "name": "stdout",
     "output_type": "stream",
     "text": [
      "(1168, 2) (292, 2) (1168, 1) (292, 1)\n"
     ]
    }
   ],
   "source": [
    "import pandas as pd\n",
    "\n",
    "data = pd.read_csv(\"/Users/tsuneo/kaggle/houseprice/train.csv\")\n",
    "X = data[[\"GrLivArea\", \"YearBuilt\"]].values\n",
    "y = data[\"SalePrice\"].values\n",
    "\n",
    "#print(X.shape)\n",
    "y = y[:, np.newaxis]\n",
    "# 正規化\n",
    "X = np.log(X)\n",
    "y = np.log(y)\n",
    "\n",
    "from sklearn.preprocessing import StandardScaler\n",
    "ss = StandardScaler()\n",
    "\n",
    "from  sklearn.model_selection import train_test_split\n",
    "X_train, X_test, y_train, y_test = train_test_split(X, y, test_size=0.2)\n",
    "print(X_train.shape, X_test.shape, y_train.shape, y_test.shape)"
   ]
  },
  {
   "cell_type": "markdown",
   "metadata": {},
   "source": [
    "## インスタンス生成"
   ]
  },
  {
   "cell_type": "code",
   "execution_count": 15,
   "metadata": {},
   "outputs": [],
   "source": [
    "#sdnnr1 = ScratchDeepNeuralNetworkRegressor(n_epochs=30, batch_size=50, lr=0.0001,sigma=0.01, n_nodes1=500, n_nodes2=50, n_output=1)\n",
    "sdnnr1 = ScratchDeepNeuralNetworkRegressor(n_epochs=1000, batch_size=50, lr=0.0001,sigma=0.01, n_nodes1=3, n_nodes2=2, n_output=1)\n",
    "sdnnr1.fit(X_train, y_train)\n"
   ]
  },
  {
   "cell_type": "code",
   "execution_count": 16,
   "metadata": {},
   "outputs": [
    {
     "data": {
      "image/png": "[encoded data removed]",
      "text/plain": [
       "<Figure size 432x288 with 1 Axes>"
      ]
     },
     "metadata": {
      "needs_background": "light"
     },
     "output_type": "display_data"
    }
   ],
   "source": [
    "# エポック毎の損失値\n",
    "import matplotlib.pyplot as plt\n",
    "%matplotlib inline\n",
    "plt.plot(sdnnr1.epoch_loss_list)\n",
    "plt.show()\n"
   ]
  },
  {
   "cell_type": "code",
   "execution_count": 17,
   "metadata": {},
   "outputs": [
    {
     "data": {
      "image/png": "[encoded data removed]",
      "text/plain": [
       "<Figure size 432x288 with 1 Axes>"
      ]
     },
     "metadata": {
      "needs_background": "light"
     },
     "output_type": "display_data"
    }
   ],
   "source": [
    "# ミニバッチ毎の損失値\n",
    "plt.plot(sdnnr1.loss_list)\n",
    "plt.show()"
   ]
  },
  {
   "cell_type": "markdown",
   "metadata": {},
   "source": [
    "## 評価する"
   ]
  },
  {
   "cell_type": "code",
   "execution_count": 18,
   "metadata": {},
   "outputs": [],
   "source": [
    "y_pred1 = sdnnr1.predict(X_test)"
   ]
  },
  {
   "cell_type": "code",
   "execution_count": 19,
   "metadata": {},
   "outputs": [
    {
     "data": {
      "text/plain": [
       "array([[10.93316013],\n",
       "       [10.93316013],\n",
       "       [10.93316013],\n",
       "       [10.93316013],\n",
       "       [10.93316013],\n",
       "       [10.93316013],\n",
       "       [10.93316013],\n",
       "       [10.93316013],\n",
       "       [10.93316013],\n",
       "       [10.93316013]])"
      ]
     },
     "execution_count": 19,
     "metadata": {},
     "output_type": "execute_result"
    }
   ],
   "source": [
    "y_pred1[0:10]"
   ]
  },
  {
   "cell_type": "code",
   "execution_count": 20,
   "metadata": {},
   "outputs": [
    {
     "data": {
      "text/plain": [
       "0.6882449730157583"
      ]
     },
     "execution_count": 20,
     "metadata": {},
     "output_type": "execute_result"
    }
   ],
   "source": [
    "m = MeanSquardError()\n",
    "m.mse(y_test, y_pred1)"
   ]
  },
  {
   "cell_type": "markdown",
   "metadata": {},
   "source": [
    "# 説明\n",
    "・ドロップアウトとは何か  \n",
    "・近年ReLUが一般的に使われている理由  \n",
    "・重みの初期化方法について  \n",
    "・代表的な最適化手法について  "
   ]
  },
  {
   "cell_type": "markdown",
   "metadata": {},
   "source": [
    "### 【ドロップアウトとは何か】  \n",
    "**<回答>**  \n",
    "過学習を制御する手法・テクニックとして利用されています。ノード（ニューロン）をランダムに選び出し、その選び出したニューロンを消去します。消去されたニューロンは信号の伝達が行われ無くなります。訓練時には、データが流れるたびに、消去するニューロンをランダムに選択します。  \n",
    "機械学習にはアンサンブル学習という手法（複数のモデルを個別に学習させ、推論時にはその複数の出力を平均する）がありますが、Dropoutと近い関係にあります。Dropoutは学習時（ミニバッチ毎、レイヤー毎）にニューロンをランダムに消去することで、異なるモデルを学習させていると解釈できるからです。そして、推論時には、ニューロンの出力に対して消去した割合（例えば０.５など）を乗算することで、モデルの平均を取っています。つまり、Dropoutは、アンサンブル学習と同じ効果（擬似的に）を１つのネットワークで実現していると考えることができます。\n",
    "\n",
    "\n",
    "### 【近年ReLUが一般的に使われている理由】  \n",
    "**<回答>**  \n",
    "シグモイドやハイパボリックタンジェントでは逆伝播時に重み・バイアスのパラメータに対して更新する勾配が消失（０）してしまう問題があるが、0以上であればその問題を解決することができるため使われているのだと思います。\n",
    "\n",
    "### 【重みの初期化方法について】  \n",
    "**<回答>**  \n",
    "「ガウス分布（std=0.01）」、「Xavierの初期値」、「Heの初期値」などがあります。\n",
    "\n",
    "### 【代表的な最適化手法について】  \n",
    "**<回答>**  \n",
    "最適化=optimizerとは、「最適化を行う者」ということです。代表的なものは以下です。  \n",
    "・SGD（Stochastic Gradient Decent）・・・確率的勾配降下法（最適化の更新経路はジグザグのため非効率である）\n",
    "$$W ← W - η\\frac{∂L}{∂W}$$\n",
    "・Momentum・・・最適化の更新経路が、ボールがお椀を転がるよう動作するため効率的である  \n",
    "・AdaGrad・・・学習が進むにつれて学習係数（learning rate）を小さくする手法  \n",
    "・Adam・・・MomentumとAdaGradを融合したような手法  "
   ]
  },
  {
   "cell_type": "markdown",
   "metadata": {},
   "source": [
    "# Sprint9のMNIST（分類）にチャレンジ"
   ]
  },
  {
   "cell_type": "code",
   "execution_count": 21,
   "metadata": {},
   "outputs": [],
   "source": [
    "# DNNスクラッチ分類\n",
    "class ScratchDeepNeuralNetworkClassification:\n",
    "    def __init__(self, n_epochs, batch_size, lr, sigma, n_nodes1, n_nodes2, n_output):\n",
    "        self.n_epochs    =  n_epochs    # エポック数\n",
    "        self.batch_size  = batch_size   #バッチサイズ\n",
    "        self.lr                  =  lr                   # 学習率\n",
    "        self.sigma          =  sigma            # シグマ\n",
    "        self.n_nodes1   =  n_nodes1    # 1層目のノード数\n",
    "        self.n_nodes2   =  n_nodes2    # 2層目のノード数\n",
    "        self.n_output    = n_output      # 出力層のノード数\n",
    "        self.loss             =  None\n",
    "        self.val_loss     =  None\n",
    "        \n",
    "        self.loss_list = []\n",
    "        self.epoch_loss_list = []\n",
    "        \n",
    "        #　入力層の特徴量（今回は2種類）\n",
    "        # fitの中でインスタンス変数を定義するためには、ここで事前に定義する必要がある\n",
    "        self.n_features = None\n",
    "        \n",
    "        self.fc1 = None\n",
    "        self.fc2 = None\n",
    "        self.fc3 = None\n",
    "        \n",
    "        self.activation1 = None\n",
    "        self.activation2 = None\n",
    "        self.activation3 = None\n",
    "        self.costfunction = None\n",
    "        \n",
    "        self.tomo = None\n",
    "    \n",
    "    def fit(self, X, y, X_val=None, y_val=None):\n",
    "        \n",
    "        # ミニバッチ単位で処理する\n",
    "        train_batch = GetMiniBatch(X, y, batch_size=self.batch_size, seed=0)\n",
    "        # 最適化関数（オプティマイザー）クラスをインスタンス化する\n",
    "        optimizer = SGD(self.lr)\n",
    "\n",
    "        # fitを呼び出す時に、ここで特徴量を把握すれば、コンストラクタでわざわざ定義しなくても良い\n",
    "        self.n_features = X.shape[1]        \n",
    "\n",
    "        # インスタンス化（開始） ########################################\n",
    "        # 1層目\n",
    "        # 全結合層クラスをインスタンス化する\n",
    "        # SimpleInitializerを引数の中でクラスを呼んでいる理由は、各層で異なる初期値を与えて上げることができるため\n",
    "        # optimizerを全結合で\n",
    "        self.fc1 = Full_Connection(self.n_features, self.n_nodes1, SimpleInitializer(self.sigma), optimizer)\n",
    "        self.activation1 = Tanh()\n",
    "        \n",
    "        # 2層目\n",
    "        # 全結合層クラスをインスタンス化する\n",
    "        self.fc2 = Full_Connection(self.n_nodes1, self.n_nodes2, SimpleInitializer(self.sigma), optimizer)\n",
    "        # 活性化関数クラスをインスタンス化する\n",
    "        self.activation2 = Tanh()\n",
    "        #self.activation2 = ReLU()\n",
    "        \n",
    "        # 3層目\n",
    "        # 全結合層クラスをインスタンス化する\n",
    "        self.fc3 = Full_Connection(self.n_nodes2, self.n_output, SimpleInitializer(self.sigma), optimizer)\n",
    "        \n",
    "        # 出力層の活性化関数はsoftmax関数を利用する\n",
    "        self.activation3 = Softmax()\n",
    "        \n",
    "        # 損失関数をインスタンス化する\n",
    "        self.costfunction = CrossEntropyError()\n",
    "        \n",
    "        # インスタンス化（終了） ########################################\n",
    "        \n",
    "        n = 0\n",
    "        # エポック単位のループ\n",
    "        for epoch in range(self.n_epochs):\n",
    "            n +=1            \n",
    "            # ミニバッチ単位のループ\n",
    "            #a = 0\n",
    "            for mini_X_train, mini_y_train in train_batch:      \n",
    "                #a = a +1\n",
    "                # フォワード ########################################\n",
    "                # 1層目\n",
    "                # 全結合層（A = X・W + B）\n",
    "                #print(\"testcode1\",mini_X_train.shape)\n",
    "                A1 = self.fc1.forward(mini_X_train)\n",
    "                # 活性化関数（Z = 活性化関数（A））\n",
    "                Z1 = self.activation1.forward(A1)\n",
    "\n",
    "                # 2層目\n",
    "                # 全結合層（A = Z・W + B）\n",
    "                A2 = self.fc2.forward(Z1)\n",
    "                # 活性化関数（Z = 活性化関数（A））\n",
    "                Z2 = self.activation2.forward(A2)\n",
    "\n",
    "                # 3層目\n",
    "                # 全結合層（A = Z・W + B）\n",
    "                A3 = self.fc3.forward(Z2)\n",
    "                # 活性化関数（Z = 活性化関数（A））　　・・・分類の時はsoftmax関数\n",
    "                Z3 = self.activation3.forward(A3)\n",
    "                \n",
    "                self.loss = self.costfunction.cee(Z3, mini_y_train)\n",
    "                self.loss_list.append(self.loss)\n",
    "\n",
    "                # バックワード ########################################\n",
    "                # 3層目\n",
    "                # 交差エントロピーから伝達されてきた値（-y/y_pred）を使うのではなく、softmaxから伝達される値（y_pred - y）を使う\n",
    "                dA3 = self.activation3.backward(mini_y_train)\n",
    "                # 全結合層のバックワード\n",
    "                dZ2 = self.fc3.backward(dA3)\n",
    "\n",
    "                # 2層目\n",
    "                # 活性化関数のバックワード\n",
    "                dA2 = self.activation2.backward(dZ2)\n",
    "                # 全結合層のバックワード\n",
    "                dZ1 = self.fc2.backward(dA2)\n",
    "\n",
    "                # 1層目\n",
    "                # 活性化関数のバックワード\n",
    "                dA1 = self.activation1.backward(dZ1)\n",
    "                # 全結合層のバックワード\n",
    "                dZ0 = self.fc1.backward(dA1)\n",
    "            \n",
    "            #print(a)\n",
    "            self.epoch_loss_list.append(self.loss)\n",
    "            print(n)\n",
    "    def predict(self, X):\n",
    "        \n",
    "        # 1層目  ############################################\n",
    "        A1 = self.fc1.forward(X)\n",
    "        # この時点ではOK\n",
    "        #print(A1.shape) # (292, 500)\n",
    "        #print(A1) # バラバラな値である\n",
    "        self.tomo = A1\n",
    "        \n",
    "        Z1 = self.activation1.forward(A1)\n",
    "        #print(Z1.shape) # (292, 500)\n",
    "        #print(Z1)\n",
    "\n",
    "        # 2層目  ############################################\n",
    "        A2 = self.fc2.forward(Z1)\n",
    "        #print(A2.shape)\n",
    "        #print(A2)\n",
    "        \n",
    "        Z2 = self.activation2.forward(A2)\n",
    "        #print(\"Z2.shape : \",Z2.shape)\n",
    "        #print(Z2)\n",
    "        #print(np.unique(Z2))\n",
    "\n",
    "        # 3層目  ############################################\n",
    "        A3 = self.fc3.forward(Z2)\n",
    "        #print(A3.shape)\n",
    "        Z3 = self.activation3.forward(A3)\n",
    "        \n",
    "        return Z3"
   ]
  },
  {
   "cell_type": "code",
   "execution_count": 22,
   "metadata": {},
   "outputs": [],
   "source": [
    "class Full_Connection:\n",
    "    \"\"\"\n",
    "    ノード数n_nodes1からn_nodes2への全結合層\n",
    "    n_nodes1 :  int\n",
    "    n_nodes2 :  int\n",
    "    initializer :  初期化方法のインスタンス\n",
    "    optimizer : 最適化手法のインスタンス\n",
    "    \"\"\"\n",
    "    \n",
    "    # コンストラクタで重みやバイアスの初期化をする\n",
    "    def __init__(self, n_nodes1, n_nodes2, initializer, optimizer):\n",
    "\n",
    "        # 全結合層のコンストラクタに初期化方法のインスタンスを渡したい\n",
    "        # ノード数を保持する\n",
    "        self.n_nodes1 = n_nodes1\n",
    "        self.n_nodes2 = n_nodes2\n",
    "        self.sigma = initializer.sigma\n",
    "        \n",
    "        # initializerのメソッドを使い、self.Wとself.Bを初期化する\n",
    "        # 重み・バイアスを初期化\n",
    "        self.W = initializer.W(self.n_nodes1, self.n_nodes2)\n",
    "        #print(\"doudesuka\",n_nodes2)\n",
    "        self.B = initializer.B(self.n_nodes2)\n",
    "        #print(\"★★★★★★★\",self.B.shape)\n",
    "        \n",
    "        # 引数で受け取ったoptimizer（最適化クラス）をインスタンス変数として持つ\n",
    "        self.optimizer = optimizer\n",
    "        \n",
    "        # ここで初期化が必要。。\n",
    "        self.X = None\n",
    "        self.dB = None\n",
    "        self.dW = None\n",
    "        self.A = None\n",
    "        \n",
    "        # ドロップアウト用\n",
    "        self.mask = None\n",
    "        self.dropout_ratio = 0.5\n",
    "    \n",
    "    def forward(self, X):\n",
    "        \"\"\"\n",
    "        X  :  配列とシェイプ  （batch_size,  n_nodes1）\n",
    "        A  :  配列とシェイプ  （batch_size, n_nodes2）\n",
    "        \"\"\"\n",
    "        \"\"\"\n",
    "        ドロップアウトする要素（False）としない要素（True）に分ける\n",
    "        \"\"\"\n",
    "        #self.X = X.copy()\n",
    "        #self.mask = np.random.rand(*self.X.shape) > self.dropout_ratio\n",
    "        #self.X = self.X * self.mask\n",
    "        \n",
    "        # 入力Xをインスタンス変数として保持\n",
    "        self.X = X.copy()\n",
    "        \n",
    "        # 全結合はここで定義している\n",
    "        self.A = np.dot(self.X, self.W) + self.B\n",
    "        \n",
    "        return self.A\n",
    "\n",
    "    \n",
    "    def backward(self, dA):\n",
    "        \n",
    "        \"\"\"\n",
    "        dA  :  後ろから流れてきた勾配(batch_size, n_nodes2)\n",
    "        dZ  :   前に流す勾配　（batch_size, n_nodes1）\n",
    "        \"\"\"\n",
    "        # バイアスの勾配は、forward時に加算演算なので、\n",
    "        # 前から受け取った勾配をそもまま利用する\n",
    "        self.dB = dA\n",
    "        \n",
    "        # forward時に活性化関数を通ったXを利用する。Zに相当する\n",
    "        # 前から受け取ったもdAと、dot積をとる。ひっくり返すところの処理。乗算演算なので\n",
    "        self.dW = np.dot(self.X.T, dA)\n",
    "        \n",
    "        # 後ろに流す勾配\n",
    "        dZ = np.dot(dA, self.dW.T)\n",
    "        \n",
    "        # 引数として自身のインスタンスselfを渡すこともできる\n",
    "        # 層の重みの更新が可能である\n",
    "        # self.optimizer.update(self)だけでもOK\n",
    "        # 各層のbackwardの処理の中で、重みパラメータとバイアスを更新する処理です\n",
    "        # sprint9の時は最後にまとめて更新していたが、その層の重みとバイアスが求まったタイミングでリアルタイムで更新する\n",
    "        # また、ここでselfに代入しなくても動作するらしいです。\n",
    "        #print(\"fcで最適化する\")\n",
    "        self = self.optimizer.update(self)        \n",
    "        \n",
    "        return dZ\n",
    "    \n",
    "    def dropout():        \n",
    "        pass"
   ]
  },
  {
   "cell_type": "code",
   "execution_count": 23,
   "metadata": {},
   "outputs": [
    {
     "name": "stdout",
     "output_type": "stream",
     "text": [
      "--int型へ変更前--\n",
      "uint8\n",
      "float64\n",
      "--int型へ変更後--\n",
      "uint8\n",
      "int64\n"
     ]
    }
   ],
   "source": [
    "from sklearn.datasets import fetch_mldata\n",
    "from sklearn.model_selection import train_test_split\n",
    "import numpy as np\n",
    "\n",
    "# 保存先を指定\n",
    "mnist_dir = \"/Users/tsuneo/git/diveintocode-term2/mnist_data\"\n",
    "\n",
    "# MNISTの読み込み\n",
    "mnist = fetch_mldata('MNIST original', data_home=mnist_dir)\n",
    "\n",
    "# trainとtestに分割する\n",
    "X_train, X_test, y_train, y_test = train_test_split(mnist.data, mnist.target, test_size=0.14285, shuffle=False)\n",
    "\n",
    "print(\"--int型へ変更前--\")\n",
    "print(X_train.dtype)\n",
    "print(y_test.dtype)\n",
    "\n",
    "# ラベルをint型にしておく\n",
    "y_train = y_train.astype(np.int)\n",
    "y_test = y_test.astype(np.int)\n",
    "\n",
    "print(\"--int型へ変更後--\")\n",
    "print(X_train.dtype)\n",
    "print(y_test.dtype)"
   ]
  },
  {
   "cell_type": "code",
   "execution_count": 24,
   "metadata": {},
   "outputs": [
    {
     "name": "stdout",
     "output_type": "stream",
     "text": [
      "255.0\n",
      "0.0\n",
      "----\n",
      "1.0\n",
      "0.0\n"
     ]
    }
   ],
   "source": [
    "# 特徴量だけを、float型へ変換している\n",
    "X_train = X_train.astype(np.float)\n",
    "X_test = X_test.astype(np.float)\n",
    "\n",
    "# 最大値・最小値の確認（処理前）\n",
    "print(X_train.max())\n",
    "print(X_train.min())\n",
    "print(\"----\")\n",
    "\n",
    "# 正則化？正規化？標準化？している\n",
    "X_train /= 255\n",
    "X_test /= 255\n",
    "\n",
    "# 最大値・最小値の確認（処理前）\n",
    "print(X_train.max())\n",
    "print(X_train.min())"
   ]
  },
  {
   "cell_type": "code",
   "execution_count": 25,
   "metadata": {},
   "outputs": [
    {
     "name": "stdout",
     "output_type": "stream",
     "text": [
      "X_train    : (48000, 784)\n",
      "X_val    : (12000, 784)\n"
     ]
    }
   ],
   "source": [
    "X_train, X_val, y_train, y_val = train_test_split(X_train, y_train, test_size=0.2)\n",
    "print(\"X_train    :\",X_train.shape)\n",
    "print(\"X_val    :\",X_val.shape)"
   ]
  },
  {
   "cell_type": "code",
   "execution_count": 26,
   "metadata": {},
   "outputs": [
    {
     "name": "stdout",
     "output_type": "stream",
     "text": [
      "y_train.shape    　　　　　　　　　　　　　　　　:    (48000,)\n",
      "y_train_one_hot.shape    :    (48000, 10)\n",
      "y_train_one_hot.型  　　　　　　  :    float64\n",
      "------\n",
      "y_test.shape  　　　　　　　　　　　　　　　　  :    (12000,)\n",
      "y_test_one_hot.shape    :    (12000, 10)\n",
      "y_test_one_hot.型　　　　　　    :    float64\n"
     ]
    }
   ],
   "source": [
    "#  one-hot表現にする\n",
    "from sklearn.preprocessing import OneHotEncoder\n",
    "enc = OneHotEncoder(handle_unknown='ignore', sparse=False)\n",
    "\n",
    "# 教師ラベルだけ変換する\n",
    "y_train_one_hot = enc.fit_transform(y_train[:, np.newaxis])\n",
    "y_val_one_hot = enc.transform(y_val[:, np.newaxis])\n",
    "\n",
    "# shapeの確認\n",
    "print(\"y_train.shape    　　　　　　　　　　　　　　　　:   \",y_train.shape)\n",
    "print(\"y_train_one_hot.shape    :   \",y_train_one_hot.shape)\n",
    "print(\"y_train_one_hot.型  　　　　　　  :   \",y_train_one_hot.dtype)\n",
    "print(\"------\")\n",
    "print(\"y_test.shape  　　　　　　　　　　　　　　　　  :   \",y_val.shape)\n",
    "print(\"y_test_one_hot.shape    :   \",y_val_one_hot.shape)\n",
    "print(\"y_test_one_hot.型　　　　　　    :   \",y_val_one_hot.dtype)"
   ]
  },
  {
   "cell_type": "code",
   "execution_count": 36,
   "metadata": {},
   "outputs": [
    {
     "name": "stdout",
     "output_type": "stream",
     "text": [
      "1\n",
      "2\n",
      "3\n",
      "4\n",
      "5\n",
      "6\n",
      "7\n",
      "8\n",
      "9\n",
      "10\n",
      "11\n",
      "12\n",
      "13\n",
      "14\n",
      "15\n"
     ]
    }
   ],
   "source": [
    "sdnnc1 = ScratchDeepNeuralNetworkClassification(n_epochs=15, batch_size=100, lr=0.0000001,sigma=0.01, n_nodes1=400, n_nodes2=200, n_output=10)\n",
    "sdnnc1.fit(X_train, y_train_one_hot)"
   ]
  },
  {
   "cell_type": "code",
   "execution_count": 35,
   "metadata": {},
   "outputs": [
    {
     "data": {
      "text/plain": [
       "4800"
      ]
     },
     "execution_count": 35,
     "metadata": {},
     "output_type": "execute_result"
    }
   ],
   "source": [
    "len(sdnnc1.loss_list)"
   ]
  },
  {
   "cell_type": "code",
   "execution_count": 29,
   "metadata": {},
   "outputs": [
    {
     "data": {
      "image/png": "[encoded data removed]",
      "text/plain": [
       "<Figure size 432x288 with 1 Axes>"
      ]
     },
     "metadata": {
      "needs_background": "light"
     },
     "output_type": "display_data"
    }
   ],
   "source": [
    "# エポック毎のlossを描画\n",
    "plt.plot(sdnnc1.epoch_loss_list)\n",
    "plt.show()"
   ]
  },
  {
   "cell_type": "code",
   "execution_count": 30,
   "metadata": {},
   "outputs": [
    {
     "data": {
      "image/png": "[encoded data removed]",
      "text/plain": [
       "<Figure size 432x288 with 1 Axes>"
      ]
     },
     "metadata": {
      "needs_background": "light"
     },
     "output_type": "display_data"
    }
   ],
   "source": [
    "# ミニバッチ毎の損失値\n",
    "plt.plot(sdnnc1.loss_list)\n",
    "plt.show()"
   ]
  },
  {
   "cell_type": "code",
   "execution_count": 31,
   "metadata": {},
   "outputs": [
    {
     "data": {
      "text/plain": [
       "array([0.10152583, 0.10103768, 0.09871647, 0.09924521, 0.09922698,\n",
       "       0.10092989, 0.10092123, 0.09960976, 0.0993024 , 0.09948455])"
      ]
     },
     "execution_count": 31,
     "metadata": {},
     "output_type": "execute_result"
    }
   ],
   "source": [
    "y_pred1 = sdnnc1.predict(X_val)\n",
    "y_pred1[4]"
   ]
  },
  {
   "cell_type": "code",
   "execution_count": 32,
   "metadata": {},
   "outputs": [
    {
     "data": {
      "text/plain": [
       "(12000, 10)"
      ]
     },
     "execution_count": 32,
     "metadata": {},
     "output_type": "execute_result"
    }
   ],
   "source": [
    "y_val_one_hot.shape"
   ]
  },
  {
   "cell_type": "code",
   "execution_count": 33,
   "metadata": {},
   "outputs": [
    {
     "data": {
      "text/plain": [
       "(12000, 10)"
      ]
     },
     "execution_count": 33,
     "metadata": {},
     "output_type": "execute_result"
    }
   ],
   "source": [
    "y_pred1.shape"
   ]
  },
  {
   "cell_type": "code",
   "execution_count": 34,
   "metadata": {},
   "outputs": [
    {
     "ename": "ValueError",
     "evalue": "Classification metrics can't handle a mix of multilabel-indicator and continuous-multioutput targets",
     "output_type": "error",
     "traceback": [
      "\u001b[0;31m---------------------------------------------------------------------------\u001b[0m",
      "\u001b[0;31mValueError\u001b[0m                                Traceback (most recent call last)",
      "\u001b[0;32m<ipython-input-34-0eb6d1ceca6c>\u001b[0m in \u001b[0;36m<module>\u001b[0;34m()\u001b[0m\n\u001b[1;32m      1\u001b[0m \u001b[0;32mfrom\u001b[0m \u001b[0msklearn\u001b[0m\u001b[0;34m.\u001b[0m\u001b[0mmetrics\u001b[0m \u001b[0;32mimport\u001b[0m \u001b[0maccuracy_score\u001b[0m\u001b[0;34m\u001b[0m\u001b[0m\n\u001b[0;32m----> 2\u001b[0;31m \u001b[0macc1\u001b[0m \u001b[0;34m=\u001b[0m \u001b[0maccuracy_score\u001b[0m\u001b[0;34m(\u001b[0m\u001b[0my_val_one_hot\u001b[0m\u001b[0;34m,\u001b[0m \u001b[0my_pred1\u001b[0m\u001b[0;34m)\u001b[0m\u001b[0;34m\u001b[0m\u001b[0m\n\u001b[0m\u001b[1;32m      3\u001b[0m \u001b[0macc1\u001b[0m\u001b[0;34m\u001b[0m\u001b[0m\n",
      "\u001b[0;32m~/.pyenv/versions/anaconda3-4.3.0/lib/python3.6/site-packages/sklearn/metrics/classification.py\u001b[0m in \u001b[0;36maccuracy_score\u001b[0;34m(y_true, y_pred, normalize, sample_weight)\u001b[0m\n\u001b[1;32m    174\u001b[0m \u001b[0;34m\u001b[0m\u001b[0m\n\u001b[1;32m    175\u001b[0m     \u001b[0;31m# Compute accuracy for each possible representation\u001b[0m\u001b[0;34m\u001b[0m\u001b[0;34m\u001b[0m\u001b[0m\n\u001b[0;32m--> 176\u001b[0;31m     \u001b[0my_type\u001b[0m\u001b[0;34m,\u001b[0m \u001b[0my_true\u001b[0m\u001b[0;34m,\u001b[0m \u001b[0my_pred\u001b[0m \u001b[0;34m=\u001b[0m \u001b[0m_check_targets\u001b[0m\u001b[0;34m(\u001b[0m\u001b[0my_true\u001b[0m\u001b[0;34m,\u001b[0m \u001b[0my_pred\u001b[0m\u001b[0;34m)\u001b[0m\u001b[0;34m\u001b[0m\u001b[0m\n\u001b[0m\u001b[1;32m    177\u001b[0m     \u001b[0;32mif\u001b[0m \u001b[0my_type\u001b[0m\u001b[0;34m.\u001b[0m\u001b[0mstartswith\u001b[0m\u001b[0;34m(\u001b[0m\u001b[0;34m'multilabel'\u001b[0m\u001b[0;34m)\u001b[0m\u001b[0;34m:\u001b[0m\u001b[0;34m\u001b[0m\u001b[0m\n\u001b[1;32m    178\u001b[0m         \u001b[0mdiffering_labels\u001b[0m \u001b[0;34m=\u001b[0m \u001b[0mcount_nonzero\u001b[0m\u001b[0;34m(\u001b[0m\u001b[0my_true\u001b[0m \u001b[0;34m-\u001b[0m \u001b[0my_pred\u001b[0m\u001b[0;34m,\u001b[0m \u001b[0maxis\u001b[0m\u001b[0;34m=\u001b[0m\u001b[0;36m1\u001b[0m\u001b[0;34m)\u001b[0m\u001b[0;34m\u001b[0m\u001b[0m\n",
      "\u001b[0;32m~/.pyenv/versions/anaconda3-4.3.0/lib/python3.6/site-packages/sklearn/metrics/classification.py\u001b[0m in \u001b[0;36m_check_targets\u001b[0;34m(y_true, y_pred)\u001b[0m\n\u001b[1;32m     79\u001b[0m     \u001b[0;32mif\u001b[0m \u001b[0mlen\u001b[0m\u001b[0;34m(\u001b[0m\u001b[0my_type\u001b[0m\u001b[0;34m)\u001b[0m \u001b[0;34m>\u001b[0m \u001b[0;36m1\u001b[0m\u001b[0;34m:\u001b[0m\u001b[0;34m\u001b[0m\u001b[0m\n\u001b[1;32m     80\u001b[0m         raise ValueError(\"Classification metrics can't handle a mix of {0} \"\n\u001b[0;32m---> 81\u001b[0;31m                          \"and {1} targets\".format(type_true, type_pred))\n\u001b[0m\u001b[1;32m     82\u001b[0m \u001b[0;34m\u001b[0m\u001b[0m\n\u001b[1;32m     83\u001b[0m     \u001b[0;31m# We can't have more than one value on y_type => The set is no more needed\u001b[0m\u001b[0;34m\u001b[0m\u001b[0;34m\u001b[0m\u001b[0m\n",
      "\u001b[0;31mValueError\u001b[0m: Classification metrics can't handle a mix of multilabel-indicator and continuous-multioutput targets"
     ]
    }
   ],
   "source": [
    "# accuracyスコアがうまく実行されません\n",
    "from sklearn.metrics import accuracy_score\n",
    "acc1 = accuracy_score(y_val_one_hot, y_pred1)\n",
    "acc1"
   ]
  }
 ],
 "metadata": {
  "kernelspec": {
   "display_name": "Python 3",
   "language": "python",
   "name": "python3"
  },
  "language_info": {
   "codemirror_mode": {
    "name": "ipython",
    "version": 3
   },
   "file_extension": ".py",
   "mimetype": "text/x-python",
   "name": "python",
   "nbconvert_exporter": "python",
   "pygments_lexer": "ipython3",
   "version": "3.6.6"
  },
  "toc": {
   "base_numbering": 1,
   "nav_menu": {},
   "number_sections": false,
   "sideBar": true,
   "skip_h1_title": false,
   "title_cell": "Table of Contents",
   "title_sidebar": "Contents",
   "toc_cell": false,
   "toc_position": {},
   "toc_section_display": true,
   "toc_window_display": false
  }
 },
 "nbformat": 4,
 "nbformat_minor": 2
}
