{
 "cells": [
  {
   "cell_type": "markdown",
   "metadata": {},
   "source": [
    "## 課題提出時（2018/12/1）の所感\n",
    "バックワードの実装はイメージが出来なくて、また締め切り時間も迫っていたため断念しました。ただ、フォワード処理（畳み込み層とプーリング層）については、おおよその処理のイメージを体得出来たのではないかと思います。何度も入力特徴マップ、フィルタ、出力特徴マップを紙に書き出して手計算をひたすら繰り返して、実装とのチェックを行ったことが、遠回りしているようで一番の理解の近道だったと思います。有意義なSprintであったと思います。\n",
    "\n",
    "<出来なかったこと>  \n",
    "・バックフォワード処理（畳み込み層・プーリング層）  \n",
    "・平滑化  \n",
    "・LeNetのスクラッチ  \n",
    "・平均プーリングの作成"
   ]
  },
  {
   "cell_type": "markdown",
   "metadata": {},
   "source": [
    "### 1.この課題の目的\n",
    "・スクラッチを通してCNNの基礎を理解する  \n",
    "・基本的なCNNのキーワードを学習する  \n",
    "・初期の有名なCNNモデルを知る  \n",
    "\n",
    "【目的としないこと】  \n",
    "・実用的なCNNモデルに関する知識の習得  \n",
    "\n",
    "### 2.進め方\n",
    "・CNNをスクラッチで実装する。（1日目〜2日目）  \n",
    "・手法の説明を記述する。（2日目夜発表）  \n",
    "\n",
    "### 3.スクラッチによる実装\n",
    "NumPyなど最低限のライブラリのみを使いアルゴリズムを実装していく。TensorFlowなどは使用しない。\n",
    "\n",
    "sprint12では1次元畳み込み層を実装したが、sprint13では画像に対して一般的に使われる2次元畳み込み層を実装する。また、プーリング層なども作成することで、CNNの基本形を完成させる。\n",
    "\n"
   ]
  },
  {
   "cell_type": "markdown",
   "metadata": {},
   "source": [
    "## データセットの用意"
   ]
  },
  {
   "cell_type": "code",
   "execution_count": 1,
   "metadata": {},
   "outputs": [
    {
     "name": "stdout",
     "output_type": "stream",
     "text": [
      "uint8 uint8 float64 float64\n",
      "(56000, 784) (14000, 784)\n"
     ]
    }
   ],
   "source": [
    "from sklearn.model_selection import train_test_split\n",
    "from sklearn.datasets import fetch_mldata\n",
    "import numpy as np\n",
    "\n",
    "# 保存先を指定\n",
    "mnist_dir = \"/Users/tsuneo/git/diveintocode-term2/mnist_data\"\n",
    "\n",
    "# 保存\n",
    "mnist = fetch_mldata(\"MNIST original\", data_home=mnist_dir)\n",
    "\n",
    "# データ分割\n",
    "X_train, X_test, y_train, y_test = train_test_split(mnist.data, mnist.target, test_size=0.2, shuffle=False)\n",
    "\n",
    "# データタイプを確認\n",
    "print(X_train.dtype, X_test.dtype, y_train.dtype, y_test.dtype)\n",
    "\n",
    "# データ件数も確認する\n",
    "print(X_train.shape, X_test.shape)\n"
   ]
  },
  {
   "cell_type": "code",
   "execution_count": 2,
   "metadata": {},
   "outputs": [
    {
     "name": "stdout",
     "output_type": "stream",
     "text": [
      "uint8 uint8 int64 int64\n"
     ]
    }
   ],
   "source": [
    "# 正解ラベルについて、floatをintへ変更しておく\n",
    "y_train = y_train.astype(np.int)\n",
    "y_test = y_test.astype(np.int)\n",
    "\n",
    "# 再度データタイプを確認\n",
    "print(X_train.dtype, X_test.dtype, y_train.dtype, y_test.dtype)"
   ]
  },
  {
   "cell_type": "code",
   "execution_count": 3,
   "metadata": {},
   "outputs": [
    {
     "name": "stdout",
     "output_type": "stream",
     "text": [
      "float64 float64 int64 int64\n"
     ]
    }
   ],
   "source": [
    "# 前処理\n",
    "# 特徴量だけをfloatへ変換する\n",
    "X_train = X_train.astype(np.float)\n",
    "X_test = X_test.astype(np.float)\n",
    "\n",
    "# 再度データタイプを確認\n",
    "print(X_train.dtype, X_test.dtype, y_train.dtype, y_test.dtype)"
   ]
  },
  {
   "cell_type": "code",
   "execution_count": 4,
   "metadata": {},
   "outputs": [
    {
     "name": "stdout",
     "output_type": "stream",
     "text": [
      "255.0\n",
      "0.0\n",
      "----\n",
      "1.0\n",
      "0.0\n"
     ]
    }
   ],
   "source": [
    "# 正規化？正則化？標準化？をする\n",
    "\n",
    "print(X_train.max())\n",
    "print(X_train.min())\n",
    "print(\"----\")\n",
    "X_train = X_train / 255\n",
    "X_test = X_test / 255\n",
    "\n",
    "print(X_train.max())\n",
    "print(X_train.min())"
   ]
  },
  {
   "cell_type": "code",
   "execution_count": 5,
   "metadata": {},
   "outputs": [],
   "source": [
    "# 訓練データを検証用データに分割する\n",
    "X_train, X_val, y_train ,y_val = train_test_split(X_train, y_train,test_size=0.2, shuffle=False)\n"
   ]
  },
  {
   "cell_type": "code",
   "execution_count": 6,
   "metadata": {},
   "outputs": [
    {
     "name": "stdout",
     "output_type": "stream",
     "text": [
      "(44800, 784) (11200, 784) (14000, 784)\n",
      "(44800,) (11200,) (14000,)\n"
     ]
    }
   ],
   "source": [
    "# データ件数も確認する\n",
    "print(X_train.shape, X_val.shape, X_test.shape)\n",
    "print(y_train.shape, y_val.shape, y_test.shape)"
   ]
  },
  {
   "cell_type": "code",
   "execution_count": 7,
   "metadata": {},
   "outputs": [
    {
     "data": {
      "image/png": "[encoded data removed]",
      "text/plain": [
       "<Figure size 432x288 with 1 Axes>"
      ]
     },
     "metadata": {
      "needs_background": "light"
     },
     "output_type": "display_data"
    }
   ],
   "source": [
    "import matplotlib.pyplot as plt\n",
    "%matplotlib inline\n",
    "image=X_train[22339].reshape(28,28)\n",
    "plt.imshow(image,'gray')\n",
    "plt.show()"
   ]
  },
  {
   "cell_type": "markdown",
   "metadata": {},
   "source": [
    "# Conv2dクラスを実装しました"
   ]
  },
  {
   "cell_type": "code",
   "execution_count": 8,
   "metadata": {},
   "outputs": [],
   "source": [
    "import numpy as np\n",
    "\n",
    "class Conv2d:\n",
    "    def __init__(self):\n",
    "        # 高さ/幅方向の入力サイズ（特徴量の数）\n",
    "        self.Nh_in = None\n",
    "        self.Nw_in = None\n",
    "        \n",
    "        # 高さ/幅方向のパディングの数\n",
    "        self.Ph = None\n",
    "        self.Pw = None\n",
    "        \n",
    "        # 高さ/幅方向のフィルダサイズ\n",
    "        self.Fh = None\n",
    "        self.Fw = None\n",
    "        \n",
    "        # 高さ/幅方向のストライドのサイズ\n",
    "        self.Sh = None\n",
    "        self.Sw = None\n",
    "\n",
    "        # 高さ/幅方向の出力サイズ（特徴量の数）\n",
    "        self.Nh_out = None\n",
    "        self.Nw_out = None\n",
    "        \n",
    "        # バイアス\n",
    "        self.bias = 1\n",
    "        \n",
    "\n",
    "    def _output_size(self, X, F):\n",
    "        \n",
    "        # チャンネル数の取得。フィルタのチャンネル数は同じ前提なのでXだけで見れば良い\n",
    "        self.Chan = X.shape[1]\n",
    "        \n",
    "        # 高さ/幅方向の入力サイズ（入力特徴量の数） 4次元（データ数、チャンネル数、高さ、幅）チャンネルを想定\n",
    "        self.Nh_in = X.shape[2] \n",
    "        self.Nw_in = X.shape[3]\n",
    "\n",
    "        # 高さ/幅方向のフィルタサイズ 4次元（データ数、チャンネル数、高さ、幅）チャンネルを想定\n",
    "        self.Fh = F.shape[2]\n",
    "        self.Fw = F.shape[3]\n",
    "        \n",
    "        # 高さ/幅方向のパディングの数\n",
    "        self.Ph = 0\n",
    "        self.Pw = 0\n",
    "        \n",
    "        # 高さ/幅方向のストライドのサイズ\n",
    "        self.Sh = 1\n",
    "        self.Sw = 1\n",
    "\n",
    "        # 高さ方向の出力サイズ（出力特徴量の数）\n",
    "        self.Nh_out = ((self.Nh_in + 2*self.Ph - self.Fh)/self.Sh)+1\n",
    "        self.Nh_out = int(self.Nh_out)\n",
    "        \n",
    "        # 幅方向の出力サイズ（出力特徴量の数）\n",
    "        self.Nw_out = ((self.Nw_in + 2*self.Pw - self.Fw)/self.Sw) + 1\n",
    "        self.Nw_out = int(self.Nw_out)\n",
    "        \n",
    "        \n",
    "    def forward(self, X, F):\n",
    "        \n",
    "        # まず始めに、畳み込み後の出力サイズを算出する\n",
    "        self._output_size(X, F)\n",
    "                \n",
    "        # 出力特徴マップを最後にまとめる枠\n",
    "        S = np.zeros([self.Chan, self.Nh_out, self.Nw_out])\n",
    "        \n",
    "        # チャンネルのループ\n",
    "        for c in range(self.Chan):\n",
    "            \n",
    "            # 畳み込み後の出力特徴マップの枠を作成&初期化\n",
    "            # チャンネルが変わる毎に初期化（ゼロリセット）が必要\n",
    "            A = np.zeros([self.Chan, self.Nh_out, self.Nw_out])\n",
    "            \n",
    "            # 行方向のループ\n",
    "            for i in range(self.Nh_out):\n",
    "\n",
    "                # 列方向のループ\n",
    "                for j in range(self.Nw_out):\n",
    "                    A[c,i,j]= np.sum(X[0][c][i : self.Fh+i, j : self.Fw+j] * F[0][c]) + self.bias\n",
    "                    A = A.astype(np.int)\n",
    "            \n",
    "            S[c] = S[c] + A[c]\n",
    "            S = S.astype(np.int)\n",
    "        \n",
    "        # 最後にチャンネル毎に合計する変数「S_sum」を作って、\n",
    "        # for文で足しているが、for文を使わないでNumPyで簡単にできる方法があるような\n",
    "        # 気がするが今は前に進めることを重視してfor文で対応した\n",
    "        S_sum = np.zeros([self.Nh_out, self.Nw_out])\n",
    "        \n",
    "        for c in range(self.Chan):\n",
    "            S_sum = S_sum+S[c]\n",
    "        \n",
    "        S_sum = S_sum.astype(np.int)\n",
    "        \n",
    "        return S_sum\n",
    "    \n",
    "    # backwardはタイムオーバーかつ、実装イメージが固まらなかったため作成しておりません\n",
    "    # ただ、どこかでチェレンジしたいと考えております。\n",
    "    def backward(self):\n",
    "        pass"
   ]
  },
  {
   "cell_type": "markdown",
   "metadata": {},
   "source": [
    "### MNISTでテストする前に自前のサンプルデータで確認"
   ]
  },
  {
   "cell_type": "code",
   "execution_count": 9,
   "metadata": {},
   "outputs": [
    {
     "name": "stdout",
     "output_type": "stream",
     "text": [
      "次元確認　　： (1, 3, 4, 4) (1, 3, 3, 3)\n"
     ]
    }
   ],
   "source": [
    "# 3チャンネルの入力データを手作り　４次元（1,3,4,4） ,\n",
    "X = np.array([[[1,1,1,1],[1,1,1,1],[1,1,1,1],[1,1,1,1]],[[2,2,2,2],[2,2,2,2],[2,2,2,2],[2,2,2,2]],[[3,3,3,3],[3,3,3,3],[3,3,3,3],[3,3,3,3]]])\n",
    "# 3チャンネルのフィルター手作り(1,3,3,3)\n",
    "F = np.array([[[1,1,1],[1,1,1],[1,1,1]],[[2,2,2],[2,2,2],[2,2,2]],[[3,3,3],[3,3,3],[3,3,3]]])\n",
    "\n",
    "# 次元を増やすテクニック（後ろに追加してたことはあるが、前にも追加できる！！）\n",
    "X = X[np.newaxis, :, :, :]\n",
    "F = F[np.newaxis, :, :, :]\n",
    "\n",
    "print(\"次元確認　　：\",X.shape, F.shape)\n"
   ]
  },
  {
   "cell_type": "code",
   "execution_count": 10,
   "metadata": {},
   "outputs": [
    {
     "name": "stdout",
     "output_type": "stream",
     "text": [
      "[[129 129]\n",
      " [129 129]]\n"
     ]
    }
   ],
   "source": [
    "# インスタンス化＆フォワード処理\n",
    "# 手計算の値と一致していることを確認\n",
    "model = Conv2d()\n",
    "print(model.forward(X, F))"
   ]
  },
  {
   "cell_type": "code",
   "execution_count": 11,
   "metadata": {},
   "outputs": [
    {
     "name": "stdout",
     "output_type": "stream",
     "text": [
      "次元確認　　： (1, 3, 5, 5) (1, 3, 2, 2)\n"
     ]
    }
   ],
   "source": [
    "# 3チャンネルデータを手作り（1,3,5,5）\n",
    "X = np.array([[[1,1,1,1,1],[1,1,1,1,1],[1,1,1,1,1],[1,1,1,1,1],[1,1,1,1,1]],[[2,2,2,2,2],[2,2,2,2,2],[2,2,2,2,2],[2,2,2,2,2],[2,2,2,2,2]],[[3,3,3,3,3],[3,3,3,3,3],[3,3,3,3,3],[3,3,3,3,3],[3,3,3,3,3]]])\n",
    "# 3チャンネルのフィルター手作り(1,3,2,2)\n",
    "F = np.array([[[1,1],[1,1]],[[2,2],[2,2]],[[3,3],[3,3]]])\n",
    "\n",
    "# 次元を増やすテクニック（後ろに追加してたことはあるが、前にも追加できる！！）\n",
    "# 4次元データに拡張する\n",
    "X = X[np.newaxis, :, :, :]\n",
    "F = F[np.newaxis, :, :, :]\n",
    "\n",
    "print(\"次元確認　　：\",X.shape, F.shape)\n"
   ]
  },
  {
   "cell_type": "code",
   "execution_count": 12,
   "metadata": {},
   "outputs": [
    {
     "name": "stdout",
     "output_type": "stream",
     "text": [
      "[[59 59 59 59]\n",
      " [59 59 59 59]\n",
      " [59 59 59 59]\n",
      " [59 59 59 59]]\n",
      "(4, 4)\n",
      "(1, 1, 4, 4)\n"
     ]
    }
   ],
   "source": [
    "# インスタンス化＆フォワード処理\n",
    "# 手計算の値と一致していることを確認\n",
    "model1 = Conv2d()\n",
    "print(model1.forward(X, F))\n",
    "print(model1.forward(X, F).shape)\n",
    "\n",
    "# プーリング層に入れるために、次元を2次元から4次元に拡張させる\n",
    "to_Pooling = model1.forward(X, F).reshape(1,1,4,4)\n",
    "print(to_Pooling.shape)"
   ]
  },
  {
   "cell_type": "markdown",
   "metadata": {},
   "source": [
    "### 手作りデータではなく、MNISTデータでチャレンジしてみる\n",
    "### そして、畳み込み後の出力特徴マップをビジュアルで確認してみた\n",
    "### フィルタにより変化していることがわかり、試してみて面白かったです"
   ]
  },
  {
   "cell_type": "code",
   "execution_count": 13,
   "metadata": {},
   "outputs": [
    {
     "data": {
      "image/png": "[encoded data removed]",
      "text/plain": [
       "<Figure size 432x288 with 4 Axes>"
      ]
     },
     "metadata": {
      "needs_background": "light"
     },
     "output_type": "display_data"
    }
   ],
   "source": [
    "# 手作りデータではなく、MNISTデータでチャレンジしてみる\n",
    "model2 = Conv2d()\n",
    "\n",
    "# 次元拡張\n",
    "b = X_train[20000:20002].reshape(2,1, 28, 28)\n",
    "\n",
    "# フィルタは手作り。いろんなパターンを試してみる\n",
    "# 1チャンネル目しか利用しないので、そこだけ変更しています\n",
    "F2_1 = np.array([[[1,1],[1,1]],[[2,2],[2,2]],[[3,3],[3,3]]])\n",
    "F2_2 = np.array([[[0,1],[0,1]],[[2,2],[2,2]],[[3,3],[3,3]]])\n",
    "F2_3 = np.array([[[1,0],[1,0]],[[2,2],[2,2]],[[3,3],[3,3]]])\n",
    "F2_4 = np.array([[[0,-0.5],[0,-0.5]],[[2,2],[2,2]],[[3,3],[3,3]]])\n",
    "\n",
    "# 次元拡張\n",
    "F2_1 = F2_1[np.newaxis, :, :, :]\n",
    "F2_2 = F2_2[np.newaxis, :, :, :]\n",
    "F2_3 = F2_3[np.newaxis, :, :, :]\n",
    "F2_4 = F2_4[np.newaxis, :, :, :]\n",
    "\n",
    "# フォワード処理\n",
    "test2_1 = model2.forward(b, F2_1)\n",
    "test2_2 = model2.forward(b, F2_2)\n",
    "test2_3 = model2.forward(b, F2_3)\n",
    "test2_4 = model2.forward(b, F2_4)\n",
    "\n",
    "# print(\"F2のシェイプ：\",F2.shape)\n",
    "# print(\"畳み込み後のshape  :\",test2_1.shape)\n",
    "\n",
    "# 描画\n",
    "plt.subplot(2,2,1)\n",
    "plt.title(\"all  1\")\n",
    "plt.imshow(test2_1,'gray')\n",
    "\n",
    "plt.subplot(2,2,2)\n",
    "plt.title(\"left all 0,,right all 1\")\n",
    "plt.imshow(test2_2,'gray')\n",
    "\n",
    "plt.subplot(2,2,3)\n",
    "plt.title(\"left all 1,,right all 0\")\n",
    "plt.imshow(test2_3,'gray')\n",
    "\n",
    "plt.subplot(2,2,4)\n",
    "plt.title(\"\")\n",
    "plt.imshow(test2_4,'gray')\n",
    "\n",
    "plt.show()"
   ]
  },
  {
   "cell_type": "markdown",
   "metadata": {},
   "source": [
    "### 次に最大値プーリング層に挑戦する"
   ]
  },
  {
   "cell_type": "code",
   "execution_count": 14,
   "metadata": {},
   "outputs": [],
   "source": [
    "# 次に最大値プーリング層に挑戦する\n",
    "class MaxPool2D:\n",
    "    def __init__(self):\n",
    "        \n",
    "        # チャンネルの初期値\n",
    "        self.Chan = None\n",
    "        \n",
    "        # 高さ/幅方向の入力サイズ（特徴量の数）\n",
    "        self.Nh_in = None\n",
    "        self.Nw_in = None\n",
    "                \n",
    "        # 高さ/幅方向のストライドのサイズ\n",
    "        self.Sh = None\n",
    "        self.Sw = None\n",
    "\n",
    "        # 高さ/幅方向の出力サイズ（特徴量の数）\n",
    "        self.Nh_out = None\n",
    "        self.Nw_out = None        \n",
    "\n",
    "    def _output_size(self, X, Pool):\n",
    "        \n",
    "        # Poolはプーリングウィンドウのサイズ（2,2）の場合は2のスカラー値として\n",
    "        # パラメータを受け取る想定\n",
    "        \n",
    "        # チャンネル数の取得\n",
    "        self.Chan = X.shape[1]\n",
    "        \n",
    "        # 高さ/幅方向の入力サイズ（入力特徴量の数） 4次元（データ数、チャンネル数、高さ、幅）チャンネルを想定\n",
    "        self.Nh_in = X.shape[2] \n",
    "        self.Nw_in = X.shape[3]\n",
    "                        \n",
    "        # 高さ/幅方向のストライドのサイズ\n",
    "        # プーリングウィンドウと同じストライドとしてみた\n",
    "        self.Sh = Pool\n",
    "        self.Sw = Pool\n",
    "\n",
    "        # 高さ方向の出力サイズ（出力特徴量の数）\n",
    "        self.Nh_out = ((self.Nh_in - Pool)/self.Sh)+1\n",
    "        self.Nh_out = int(self.Nh_out)\n",
    "        \n",
    "        # 幅方向の出力サイズ（出力特徴量の数）\n",
    "        self.Nw_out = ((self.Nw_in - Pool)/self.Sw) + 1\n",
    "        self.Nw_out = int(self.Nw_out)\n",
    "        \n",
    "        \n",
    "    def forward(self, X, Pool):\n",
    "        \n",
    "        # まず始めに、プーリング後の出力サイズを算出する\n",
    "        # Poolはプーリングウィンドウのサイズのスカラー値。（3,3）の場合は→3\n",
    "        self._output_size(X, Pool)\n",
    "        \n",
    "        #print(self.Nh_out, self.Nw_out)\n",
    "        #print(self.Chan)\n",
    "                \n",
    "        # 出力特徴マップを最後にまとめる枠\n",
    "        S = np.zeros([self.Chan, self.Nh_out, self.Nw_out])\n",
    "        \n",
    "        # チャンネルのループ\n",
    "        for c in range(self.Chan):\n",
    "            #print(\"c   :   \",c)\n",
    "            \n",
    "            # 畳み込み後の出力特徴マップの枠を作成&初期化\n",
    "            # チャンネルが変わる毎に初期化（ゼロリセット）が必要\n",
    "            A = np.zeros([self.Chan, self.Nh_out, self.Nw_out])\n",
    "            \n",
    "            # 行方向のループ\n",
    "            for i, i_h in enumerate(range(0, self.Nh_in, Pool)):\n",
    "\n",
    "                # 列方向のループ\n",
    "                for j, j_w in enumerate(range(0, self.Nw_in, Pool)):\n",
    "                    A[c,i,j]= np.amax(X[0][c][i_h : Pool+i_h, j_w : Pool+j_w])\n",
    "                    \n",
    "                    # backwardするためにの準備してました。途中ですが消さずに残しておきます\n",
    "                    # index = np.unravel_index(X[0][c][i_h : Pool+i_h, j_w : Pool+j_w])\n",
    "                \n",
    "            S[c] = A[c]\n",
    "                    \n",
    "        S = S.astype(np.int)\n",
    "                \n",
    "        return S\n",
    "\n",
    "    # 畳み込み同様にバックワードはギブでした\n",
    "    def backward(self):\n",
    "        pass"
   ]
  },
  {
   "cell_type": "markdown",
   "metadata": {},
   "source": [
    "### MNISTでテストする前に自前のサンプルデータで確認"
   ]
  },
  {
   "cell_type": "code",
   "execution_count": 15,
   "metadata": {},
   "outputs": [
    {
     "data": {
      "text/plain": [
       "(1, 3, 4, 4)"
      ]
     },
     "execution_count": 15,
     "metadata": {},
     "output_type": "execute_result"
    }
   ],
   "source": [
    "# Poolingするデータを手で作成した\n",
    "X = np.array([[[1,2,3,4],[5,6,7,8],[9,10,11,12],[13,14,15,16]],[[17,18,19,20],[21,22,23,24],[25,26,27,28],[29,30,31,32]],[[33,34,35,36],[37,38,39,40],[41,42,43,44],[45,46,47,48]]])\n",
    "X = X[np.newaxis, :, :, :]\n",
    "X.shape"
   ]
  },
  {
   "cell_type": "code",
   "execution_count": 16,
   "metadata": {},
   "outputs": [
    {
     "data": {
      "text/plain": [
       "array([[[ 6,  8],\n",
       "        [14, 16]],\n",
       "\n",
       "       [[22, 24],\n",
       "        [30, 32]],\n",
       "\n",
       "       [[38, 40],\n",
       "        [46, 48]]])"
      ]
     },
     "execution_count": 16,
     "metadata": {},
     "output_type": "execute_result"
    }
   ],
   "source": [
    "# 手計算と同じであることを確認できた\n",
    "mp = MaxPool2D()\n",
    "mp.forward(X,2)"
   ]
  },
  {
   "cell_type": "markdown",
   "metadata": {},
   "source": [
    "### 手作りデータではなく、畳み込み済みMNISTデータでチャレンジしてみる"
   ]
  },
  {
   "cell_type": "code",
   "execution_count": 17,
   "metadata": {},
   "outputs": [],
   "source": [
    "# 畳み込みしたデータをMaxPoolingしてみる\n",
    "test2_1.shape\n",
    "test2_1  =test2_1[np.newaxis, np.newaxis, : , :]"
   ]
  },
  {
   "cell_type": "code",
   "execution_count": 18,
   "metadata": {},
   "outputs": [
    {
     "name": "stdout",
     "output_type": "stream",
     "text": [
      "[[[1 1 1 1 1 1 1 1 1]\n",
      "  [1 1 1 3 4 4 1 1 1]\n",
      "  [1 1 3 4 4 4 1 1 1]\n",
      "  [1 1 2 1 4 4 1 1 1]\n",
      "  [1 1 1 4 4 4 4 1 1]\n",
      "  [1 1 1 1 1 1 4 1 1]\n",
      "  [1 1 2 1 1 4 3 1 1]\n",
      "  [1 1 3 4 4 4 1 1 1]\n",
      "  [1 1 1 2 2 1 1 1 1]]]\n",
      "(1, 9, 9)\n"
     ]
    }
   ],
   "source": [
    "mp2 = MaxPool2D()\n",
    "conv_to_pool = mp2.forward(test2_1,3)\n",
    "print(conv_to_pool)\n",
    "print(conv_to_pool.shape)"
   ]
  },
  {
   "cell_type": "code",
   "execution_count": 19,
   "metadata": {},
   "outputs": [
    {
     "data": {
      "image/png": "[encoded data removed]",
      "text/plain": [
       "<Figure size 432x288 with 1 Axes>"
      ]
     },
     "metadata": {
      "needs_background": "light"
     },
     "output_type": "display_data"
    }
   ],
   "source": [
    "# 描画してみる\n",
    "# 情報が削減されて、荒いデータとなっていることが分かる\n",
    "conv_to_pool_new = conv_to_pool.reshape(9,9)\n",
    "conv_to_pool_new.shape\n",
    "plt.imshow(conv_to_pool_new,'gray')\n",
    "plt.show()"
   ]
  },
  {
   "cell_type": "code",
   "execution_count": 20,
   "metadata": {},
   "outputs": [
    {
     "data": {
      "text/plain": [
       "array([[[59, 59],\n",
       "        [59, 59]]])"
      ]
     },
     "execution_count": 20,
     "metadata": {},
     "output_type": "execute_result"
    }
   ],
   "source": [
    "# 手計算データのプーリング\n",
    "mp1 = MaxPool2D()\n",
    "mp1.forward(to_Pooling,2)"
   ]
  },
  {
   "cell_type": "markdown",
   "metadata": {},
   "source": [
    "# 説明\n",
    "**・畳み込み層とは何か**  \n",
    "フィルタ（カーネル）というNNでいう所の重みパラメータを用意して、入力画像（特徴マップ）のまま縦横にサーチして新たな出力特徴マップを作成する層です。NNと同様にバイアスも存在し、フィルター1つに１つあります。\n",
    "\n",
    "\n",
    "**・プーリング層とは何か**  \n",
    "畳み込み層=>活性化関数層を経て、Pooling層で処理を行いますが、3×3などのウィンドウを用意して、入力特徴マップをサーチして、最大値（や平均値）の値を抽出して新たな出力特徴マップを作成する層のことです。\n",
    "\n",
    "**・CNNは全結合層のみのニューラルネットワークとどのように違うか**  \n",
    "全結合のニューラルネットワークで、MNISTを分類しましたが、２次元画像としてモデルに読み込んでいません。28×28をFlattenして784の１列に引き伸ばしたデータを入力として使っています。これは２次元画像が本来保持している縦横関係性を完全に無視しています。その課題を解決策として畳み込み層があります。縦横のフィルタ（カーネル）を用意して入力画像を縦横のままサーチして出力特徴マップを作成します。こうすることで、縦横の関係性も学習することができることが大きな違いです。\n",
    "\n"
   ]
  },
  {
   "cell_type": "markdown",
   "metadata": {},
   "source": [
    "## 出力サイズとパラメータ数の計算"
   ]
  },
  {
   "cell_type": "code",
   "execution_count": 21,
   "metadata": {},
   "outputs": [],
   "source": [
    "# H     :入力サイズ  \n",
    "# W    :入力サイズ\n",
    "# P     : パディング \n",
    "# FH   : フィルターサイズ\n",
    "# FW  : フィルターサイズ\n",
    "# S     : ストライド\n",
    "\n",
    "# OH   : 出力サイズ\n",
    "# OW  : 出力サイズ\n",
    "def pram_cal(H, W, P, FH, FW,S):\n",
    "    OH = ((H + 2*P - FH)/S) + 1\n",
    "    OW = ((W + 2*P - FW)/S) + 1\n",
    "    return int(OH), int(OW)"
   ]
  },
  {
   "cell_type": "code",
   "execution_count": 22,
   "metadata": {},
   "outputs": [
    {
     "name": "stdout",
     "output_type": "stream",
     "text": [
      "出力サイズ： (142, 142)\n",
      "パラメータ数： 168\n"
     ]
    }
   ],
   "source": [
    "# 1\n",
    "print(\"出力サイズ：\",pram_cal(H=144, W=144, P=0, FH=3, FW=3, S=1))\n",
    "print(\"パラメータ数：\",(3*9*6)+6)"
   ]
  },
  {
   "cell_type": "code",
   "execution_count": 23,
   "metadata": {},
   "outputs": [
    {
     "name": "stdout",
     "output_type": "stream",
     "text": [
      "出力サイズ： (58, 58)\n",
      "パラメータ数： 10416\n"
     ]
    }
   ],
   "source": [
    "# 2\n",
    "print(\"出力サイズ：\",pram_cal(H=60, W=60, P=0, FH=3, FW=3, S=1))\n",
    "print(\"パラメータ数：\",(24*9*48)+48)"
   ]
  },
  {
   "cell_type": "code",
   "execution_count": 24,
   "metadata": {},
   "outputs": [
    {
     "name": "stdout",
     "output_type": "stream",
     "text": [
      "出力サイズ： (9, 9)\n",
      "パラメータ数： 1820\n"
     ]
    }
   ],
   "source": [
    "# 3\n",
    "print(\"出力サイズ：\",pram_cal(H=20, W=20, P=0, FH=3, FW=3, S=2))\n",
    "print(\"パラメータ数：\",(10*9*20)+20)"
   ]
  },
  {
   "cell_type": "markdown",
   "metadata": {},
   "source": [
    "## フィルタサイズ\n",
    "畳み込み層にはフィルタサイズというハイパーパラメータがあるが、2次元畳み込み層において現在では3×3と1×1の使用が大半である。以下のそれぞれを調べたり、自分なりに考えて説明せよ。\n",
    "\n",
    "7×7などの大きめのものではなく、3×3のフィルタが一般的に使われる理由\n",
    "高さや幅方向を持たない1×1のフィルタの効果\n",
    "\n",
    "**【回答】**  \n",
    "調べても「これ」というものが見つからなかったので、自分の考えとなりますが、フィルタサイズが大きいと、出力特徴マップが小さくなり過ぎてしまい、入力データが本来保持している情報が薄まってしまうからだと思います。間違っている場合は訂正いただきたいです。"
   ]
  },
  {
   "cell_type": "markdown",
   "metadata": {},
   "source": [
    "## 1次元と2次元畳み込みの違い\n",
    "sprint12で扱った1次元畳み込み層と、sprint13で扱った2次元畳み込み層はどのように違うか説明せよ。以下の点を含める。\n",
    "\n",
    "・利用される場面・データ  \n",
    "・実装上の変化  \n",
    "\n",
    "**【回答】**  \n",
    "実装上の変化は、1次元畳み込みの場合は縦方向のループを回す必要がありませんでしたが、2次元の場合はそこを考慮する必要があることです。  \n",
    "\n",
    "１次元畳み込みが利用される場面ですが、以下のサイトで歩行者検出手法を提案されている資料が見つかりました。\n",
    "http://www.vision.cs.chubu.ac.jp/MPRG/F_group/F20180614_kunisada.pdf"
   ]
  }
 ],
 "metadata": {
  "kernelspec": {
   "display_name": "Python 3",
   "language": "python",
   "name": "python3"
  },
  "language_info": {
   "codemirror_mode": {
    "name": "ipython",
    "version": 3
   },
   "file_extension": ".py",
   "mimetype": "text/x-python",
   "name": "python",
   "nbconvert_exporter": "python",
   "pygments_lexer": "ipython3",
   "version": "3.6.6"
  },
  "toc": {
   "base_numbering": 1,
   "nav_menu": {},
   "number_sections": false,
   "sideBar": true,
   "skip_h1_title": false,
   "title_cell": "Table of Contents",
   "title_sidebar": "Contents",
   "toc_cell": false,
   "toc_position": {},
   "toc_section_display": true,
   "toc_window_display": false
  }
 },
 "nbformat": 4,
 "nbformat_minor": 2
}
