{
 "cells": [
  {
   "cell_type": "markdown",
   "metadata": {},
   "source": [
    "## 課題提出時（2018/11/23）の所感\n",
    "非常に勉強になったsprintでした。２日目でエポック毎の学習曲線をみて、lossが下がっているグラフを確認できたときはとても嬉しかったです。１つ１つの処理を紙に書き出して、整理して、書籍を読みながらコーディングしました。特にshapeをソースの中のコメントにも記載しました。誤差逆伝播の計算グラフの考え方とコードを学べたのはとても楽しかったです。  次のステップは、何も見ないでゼロから自分の考えているコードを自由に書けるようになることを目指したいです。なんとか課題の通りに、一通り通しましたが、体に身に付いている（＝染み付いている）かと言うとまだまだなので、次のsprintでも試行錯誤して行きます。  \n",
    "\n",
    "<出来ていないこと>  \n",
    "・学習曲線のプロットで、valデータの学習曲線を描画出来ていない  \n",
    "・ノード数を変えたチューニングが出来ていない  \n"
   ]
  },
  {
   "cell_type": "markdown",
   "metadata": {},
   "source": [
    "# 1.この課題の目的\n",
    "・スクラッチを通してニューラルネットワークの基礎を理解する  \n",
    "・基本的な深層学習のキーワードを学習する  \n",
    "・画像データの簡単な扱い方を知る  \n",
    "\n",
    "# 2.進め方\n",
    "・スクラッチで実装する。（1日目〜2日目）  \n",
    "・手法の説明を記述する。（2日目夜発表）  \n",
    "\n",
    "# 3.スクラッチによる実装\n",
    "NumPyなど最低限のライブラリのみを使いアルゴリズムを実装していく。TensorFlowなどは使用しない。\n",
    "\n",
    "今回は多クラス分類を行う3層のニューラルネットワークを作成する。層の数などを固定した上でニューラルネットワークの基本を確認する。次のsprintで層を自由に変えられる設計にしていく。\n",
    "\n",
    "今回確認する  \n",
    "・Pythonのスキル  \n",
    "・画像の可視化  \n",
    "・変数の型  "
   ]
  },
  {
   "cell_type": "markdown",
   "metadata": {},
   "source": [
    "データセットの用意  \n",
    "MNISTデータセットを使用する。以下のコードを実行すればscikit-learnによりデータセットをダウンロードし、展開まで行える。はじめて実行した際に、mnist_dirで指定した場所にファイルがダウンロードされる。"
   ]
  },
  {
   "cell_type": "code",
   "execution_count": 1,
   "metadata": {},
   "outputs": [
    {
     "name": "stdout",
     "output_type": "stream",
     "text": [
      "--int型へ変更前--\n",
      "uint8\n",
      "float64\n",
      "--int型へ変更後--\n",
      "uint8\n",
      "int64\n"
     ]
    }
   ],
   "source": [
    "from sklearn.datasets import fetch_mldata\n",
    "from sklearn.model_selection import train_test_split\n",
    "import numpy as np\n",
    "\n",
    "# 保存先を指定\n",
    "mnist_dir = \"/Users/tsuneo/git/diveintocode-term2/mnist_data\"\n",
    "\n",
    "# MNISTの読み込み\n",
    "mnist = fetch_mldata('MNIST original', data_home=mnist_dir)\n",
    "\n",
    "# trainとtestに分割する\n",
    "X_train, X_test, y_train, y_test = train_test_split(mnist.data, mnist.target, test_size=0.14285, shuffle=False)\n",
    "\n",
    "print(\"--int型へ変更前--\")\n",
    "print(X_train.dtype)\n",
    "print(y_test.dtype)\n",
    "\n",
    "# ラベルをint型にしておく\n",
    "y_train = y_train.astype(np.int)\n",
    "y_test = y_test.astype(np.int)\n",
    "\n",
    "print(\"--int型へ変更後--\")\n",
    "print(X_train.dtype)\n",
    "print(y_test.dtype)"
   ]
  },
  {
   "cell_type": "code",
   "execution_count": 2,
   "metadata": {},
   "outputs": [
    {
     "data": {
      "text/plain": [
       "array([  0,   0,   0,   0,   0,   0,   0,   0,   0,   0,   0,   0,   0,\n",
       "         0,   0,   0,   0,   0,   0,   0,   0,   0,   0,   0,   0,   0,\n",
       "         0,   0,   0,   0,   0,   0,   0,   0,   0,   0,   0,   0,   0,\n",
       "         0,   0,   0,   0,   0,   0,   0,   0,   0,   0,   0,   0,   0,\n",
       "         0,   0,   0,   0,   0,   0,   0,   0,   0,   0,   0,   0,   0,\n",
       "         0,   0,   0,   0,   0,   0,   0,   0,   0,   0,   0,   0,   0,\n",
       "         0,   0,   0,   0,   0,   0,   0,   0,   0,   0,   0,   0,   0,\n",
       "         0,   0,   0,   0,   0,   0,   0,   0,   0,   0,   0,   0,   0,\n",
       "         0,   0,   0,   0,   0,   0,   0,   0,   0,   0,   0,   0,   0,\n",
       "         0,   0,   0,   0,   0,   0,   0,   0,   0,   0,  51, 159, 253,\n",
       "       159,  50,   0,   0,   0,   0,   0,   0,   0,   0,   0,   0,   0,\n",
       "         0,   0,   0,   0,   0,   0,   0,   0,   0,   0,   0,  48, 238,\n",
       "       252, 252, 252, 237,   0,   0,   0,   0,   0,   0,   0,   0,   0,\n",
       "         0,   0,   0,   0,   0,   0,   0,   0,   0,   0,   0,   0,  54,\n",
       "       227, 253, 252, 239, 233, 252,  57,   6,   0,   0,   0,   0,   0,\n",
       "         0,   0,   0,   0,   0,   0,   0,   0,   0,   0,   0,   0,  10,\n",
       "        60, 224, 252, 253, 252, 202,  84, 252, 253, 122,   0,   0,   0,\n",
       "         0,   0,   0,   0,   0,   0,   0,   0,   0,   0,   0,   0,   0,\n",
       "         0, 163, 252, 252, 252, 253, 252, 252,  96, 189, 253, 167,   0,\n",
       "         0,   0,   0,   0,   0,   0,   0,   0,   0,   0,   0,   0,   0,\n",
       "         0,   0,  51, 238, 253, 253, 190, 114, 253, 228,  47,  79, 255,\n",
       "       168,   0,   0,   0,   0,   0,   0,   0,   0,   0,   0,   0,   0,\n",
       "         0,   0,   0,  48, 238, 252, 252, 179,  12,  75, 121,  21,   0,\n",
       "         0, 253, 243,  50,   0,   0,   0,   0,   0,   0,   0,   0,   0,\n",
       "         0,   0,   0,   0,  38, 165, 253, 233, 208,  84,   0,   0,   0,\n",
       "         0,   0,   0, 253, 252, 165,   0,   0,   0,   0,   0,   0,   0,\n",
       "         0,   0,   0,   0,   0,   7, 178, 252, 240,  71,  19,  28,   0,\n",
       "         0,   0,   0,   0,   0, 253, 252, 195,   0,   0,   0,   0,   0,\n",
       "         0,   0,   0,   0,   0,   0,   0,  57, 252, 252,  63,   0,   0,\n",
       "         0,   0,   0,   0,   0,   0,   0, 253, 252, 195,   0,   0,   0,\n",
       "         0,   0,   0,   0,   0,   0,   0,   0,   0, 198, 253, 190,   0,\n",
       "         0,   0,   0,   0,   0,   0,   0,   0,   0, 255, 253, 196,   0,\n",
       "         0,   0,   0,   0,   0,   0,   0,   0,   0,   0,  76, 246, 252,\n",
       "       112,   0,   0,   0,   0,   0,   0,   0,   0,   0,   0, 253, 252,\n",
       "       148,   0,   0,   0,   0,   0,   0,   0,   0,   0,   0,   0,  85,\n",
       "       252, 230,  25,   0,   0,   0,   0,   0,   0,   0,   0,   7, 135,\n",
       "       253, 186,  12,   0,   0,   0,   0,   0,   0,   0,   0,   0,   0,\n",
       "         0,  85, 252, 223,   0,   0,   0,   0,   0,   0,   0,   0,   7,\n",
       "       131, 252, 225,  71,   0,   0,   0,   0,   0,   0,   0,   0,   0,\n",
       "         0,   0,   0,  85, 252, 145,   0,   0,   0,   0,   0,   0,   0,\n",
       "        48, 165, 252, 173,   0,   0,   0,   0,   0,   0,   0,   0,   0,\n",
       "         0,   0,   0,   0,   0,  86, 253, 225,   0,   0,   0,   0,   0,\n",
       "         0, 114, 238, 253, 162,   0,   0,   0,   0,   0,   0,   0,   0,\n",
       "         0,   0,   0,   0,   0,   0,   0,  85, 252, 249, 146,  48,  29,\n",
       "        85, 178, 225, 253, 223, 167,  56,   0,   0,   0,   0,   0,   0,\n",
       "         0,   0,   0,   0,   0,   0,   0,   0,   0,  85, 252, 252, 252,\n",
       "       229, 215, 252, 252, 252, 196, 130,   0,   0,   0,   0,   0,   0,\n",
       "         0,   0,   0,   0,   0,   0,   0,   0,   0,   0,   0,  28, 199,\n",
       "       252, 252, 253, 252, 252, 233, 145,   0,   0,   0,   0,   0,   0,\n",
       "         0,   0,   0,   0,   0,   0,   0,   0,   0,   0,   0,   0,   0,\n",
       "         0,  25, 128, 252, 253, 252, 141,  37,   0,   0,   0,   0,   0,\n",
       "         0,   0,   0,   0,   0,   0,   0,   0,   0,   0,   0,   0,   0,\n",
       "         0,   0,   0,   0,   0,   0,   0,   0,   0,   0,   0,   0,   0,\n",
       "         0,   0,   0,   0,   0,   0,   0,   0,   0,   0,   0,   0,   0,\n",
       "         0,   0,   0,   0,   0,   0,   0,   0,   0,   0,   0,   0,   0,\n",
       "         0,   0,   0,   0,   0,   0,   0,   0,   0,   0,   0,   0,   0,\n",
       "         0,   0,   0,   0,   0,   0,   0,   0,   0,   0,   0,   0,   0,\n",
       "         0,   0,   0,   0,   0,   0,   0,   0,   0,   0,   0,   0,   0,\n",
       "         0,   0,   0,   0,   0,   0,   0,   0,   0,   0,   0,   0,   0,\n",
       "         0,   0,   0,   0,   0,   0,   0,   0,   0,   0,   0,   0,   0,\n",
       "         0,   0,   0,   0], dtype=uint8)"
      ]
     },
     "execution_count": 2,
     "metadata": {},
     "output_type": "execute_result"
    }
   ],
   "source": [
    "X_train[0]"
   ]
  },
  {
   "cell_type": "code",
   "execution_count": 3,
   "metadata": {},
   "outputs": [
    {
     "data": {
      "text/plain": [
       "['COL_NAMES', 'DESCR', 'data', 'target']"
      ]
     },
     "execution_count": 3,
     "metadata": {},
     "output_type": "execute_result"
    }
   ],
   "source": [
    "# mnistの中確認\n",
    "dir(mnist)"
   ]
  },
  {
   "cell_type": "code",
   "execution_count": 4,
   "metadata": {},
   "outputs": [
    {
     "data": {
      "text/plain": [
       "['label', 'data']"
      ]
     },
     "execution_count": 4,
     "metadata": {},
     "output_type": "execute_result"
    }
   ],
   "source": [
    "mnist.COL_NAMES"
   ]
  },
  {
   "cell_type": "code",
   "execution_count": 5,
   "metadata": {},
   "outputs": [
    {
     "data": {
      "text/plain": [
       "array([0., 0., 0., ..., 9., 9., 9.])"
      ]
     },
     "execution_count": 5,
     "metadata": {},
     "output_type": "execute_result"
    }
   ],
   "source": [
    "mnist.target"
   ]
  },
  {
   "cell_type": "code",
   "execution_count": 6,
   "metadata": {},
   "outputs": [
    {
     "data": {
      "text/plain": [
       "(70000, 784)"
      ]
     },
     "execution_count": 6,
     "metadata": {},
     "output_type": "execute_result"
    }
   ],
   "source": [
    "mnist.data.shape"
   ]
  },
  {
   "cell_type": "code",
   "execution_count": 7,
   "metadata": {},
   "outputs": [
    {
     "data": {
      "text/plain": [
       "'mldata.org dataset: mnist-original'"
      ]
     },
     "execution_count": 7,
     "metadata": {},
     "output_type": "execute_result"
    }
   ],
   "source": [
    "mnist.DESCR"
   ]
  },
  {
   "cell_type": "code",
   "execution_count": 8,
   "metadata": {},
   "outputs": [
    {
     "name": "stdout",
     "output_type": "stream",
     "text": [
      "(60000, 784)\n",
      "(10000, 784)\n",
      "uint8\n",
      "[  0   0   0   0   0   0   0   0   0   0   0   0   0   0   0   0   0   0\n",
      "   0   0   0   0   0   0   0   0   0   0   0   0   0   0   0   0   0   0\n",
      "   0   0   0   0   0   0   0   0   0   0   0   0   0   0   0   0   0   0\n",
      "   0   0   0   0   0   0   0   0   0   0   0   0   0   0   0   0   0   0\n",
      "   0   0   0   0   0   0   0   0   0   0   0   0   0   0   0   0   0   0\n",
      "   0   0   0   0   0   0   0   0   0   0   0   0   0   0   0   0   0   0\n",
      "   0   0   0   0   0   0   0   0   0   0   0   0   0   0   0   0   0   0\n",
      "   0  51 159 253 159  50   0   0   0   0   0   0   0   0   0   0   0   0\n",
      "   0   0   0   0   0   0   0   0   0   0  48 238 252 252 252 237   0   0\n",
      "   0   0   0   0   0   0   0   0   0   0   0   0   0   0   0   0   0   0\n",
      "   0  54 227 253 252 239 233 252  57   6   0   0   0   0   0   0   0   0\n",
      "   0   0   0   0   0   0   0   0   0  10  60 224 252 253 252 202  84 252\n",
      " 253 122   0   0   0   0   0   0   0   0   0   0   0   0   0   0   0   0\n",
      "   0 163 252 252 252 253 252 252  96 189 253 167   0   0   0   0   0   0\n",
      "   0   0   0   0   0   0   0   0   0   0  51 238 253 253 190 114 253 228\n",
      "  47  79 255 168   0   0   0   0   0   0   0   0   0   0   0   0   0   0\n",
      "   0  48 238 252 252 179  12  75 121  21   0   0 253 243  50   0   0   0\n",
      "   0   0   0   0   0   0   0   0   0   0  38 165 253 233 208  84   0   0\n",
      "   0   0   0   0 253 252 165   0   0   0   0   0   0   0   0   0   0   0\n",
      "   0   7 178 252 240  71  19  28   0   0   0   0   0   0 253 252 195   0\n",
      "   0   0   0   0   0   0   0   0   0   0   0  57 252 252  63   0   0   0\n",
      "   0   0   0   0   0   0 253 252 195   0   0   0   0   0   0   0   0   0\n",
      "   0   0   0 198 253 190   0   0   0   0   0   0   0   0   0   0 255 253\n",
      " 196   0   0   0   0   0   0   0   0   0   0   0  76 246 252 112   0   0\n",
      "   0   0   0   0   0   0   0   0 253 252 148   0   0   0   0   0   0   0\n",
      "   0   0   0   0  85 252 230  25   0   0   0   0   0   0   0   0   7 135\n",
      " 253 186  12   0   0   0   0   0   0   0   0   0   0   0  85 252 223   0\n",
      "   0   0   0   0   0   0   0   7 131 252 225  71   0   0   0   0   0   0\n",
      "   0   0   0   0   0   0  85 252 145   0   0   0   0   0   0   0  48 165\n",
      " 252 173   0   0   0   0   0   0   0   0   0   0   0   0   0   0  86 253\n",
      " 225   0   0   0   0   0   0 114 238 253 162   0   0   0   0   0   0   0\n",
      "   0   0   0   0   0   0   0   0  85 252 249 146  48  29  85 178 225 253\n",
      " 223 167  56   0   0   0   0   0   0   0   0   0   0   0   0   0   0   0\n",
      "  85 252 252 252 229 215 252 252 252 196 130   0   0   0   0   0   0   0\n",
      "   0   0   0   0   0   0   0   0   0   0  28 199 252 252 253 252 252 233\n",
      " 145   0   0   0   0   0   0   0   0   0   0   0   0   0   0   0   0   0\n",
      "   0   0   0  25 128 252 253 252 141  37   0   0   0   0   0   0   0   0\n",
      "   0   0   0   0   0   0   0   0   0   0   0   0   0   0   0   0   0   0\n",
      "   0   0   0   0   0   0   0   0   0   0   0   0   0   0   0   0   0   0\n",
      "   0   0   0   0   0   0   0   0   0   0   0   0   0   0   0   0   0   0\n",
      "   0   0   0   0   0   0   0   0   0   0   0   0   0   0   0   0   0   0\n",
      "   0   0   0   0   0   0   0   0   0   0   0   0   0   0   0   0   0   0\n",
      "   0   0   0   0   0   0   0   0   0   0   0   0   0   0   0   0   0   0\n",
      "   0   0   0   0   0   0   0   0   0   0]\n"
     ]
    }
   ],
   "source": [
    "print(X_train.shape)\n",
    "print(X_test.shape)\n",
    "print(X_train[0].dtype)\n",
    "print(X_train[0])"
   ]
  },
  {
   "cell_type": "code",
   "execution_count": 9,
   "metadata": {},
   "outputs": [
    {
     "name": "stdout",
     "output_type": "stream",
     "text": [
      "(60000, 784) (10000, 784) (60000,) (10000,)\n"
     ]
    }
   ],
   "source": [
    "print(X_train.shape, X_test.shape, y_train.shape, y_test.shape)"
   ]
  },
  {
   "cell_type": "markdown",
   "metadata": {},
   "source": [
    "## 画像データの可視化"
   ]
  },
  {
   "cell_type": "code",
   "execution_count": 10,
   "metadata": {},
   "outputs": [
    {
     "data": {
      "image/png": "[encoded data removed]",
      "text/plain": [
       "<Figure size 432x288 with 1 Axes>"
      ]
     },
     "metadata": {
      "needs_background": "light"
     },
     "output_type": "display_data"
    }
   ],
   "source": [
    "import matplotlib.pyplot as plt\n",
    "%matplotlib inline\n",
    "index = 56419\n",
    "image = X_train[index].reshape(28,28)\n",
    "# X_train[index]: (784,)\n",
    "# image: (28, 28)\n",
    "plt.imshow(image, 'gray')\n",
    "plt.title('label : {}'.format(y_train[index]))\n",
    "plt.show()"
   ]
  },
  {
   "cell_type": "code",
   "execution_count": 11,
   "metadata": {},
   "outputs": [
    {
     "data": {
      "image/png": "[encoded data removed]",
      "text/plain": [
       "<Figure size 432x288 with 1 Axes>"
      ]
     },
     "metadata": {
      "needs_background": "light"
     },
     "output_type": "display_data"
    },
    {
     "name": "stdout",
     "output_type": "stream",
     "text": [
      "[[-105.35 -105.35 -105.35 -105.35 -105.35 -105.35 -105.35 -105.35 -105.35\n",
      "  -105.35 -105.35 -105.35 -105.35 -105.35 -105.35 -105.35 -105.35 -105.35\n",
      "  -105.35 -105.35 -105.35 -105.35 -105.35 -105.35 -105.35 -105.35 -105.35\n",
      "  -105.35]\n",
      " [-105.35 -105.35 -105.35 -105.35 -105.35 -105.35 -105.35 -105.35 -105.35\n",
      "  -105.35 -105.35 -105.35 -105.35 -105.35 -105.35 -105.35 -105.35 -105.35\n",
      "  -105.35 -105.35 -105.35 -105.35 -105.35 -105.35 -105.35 -105.35 -105.35\n",
      "  -105.35]\n",
      " [-105.35 -105.35 -105.35 -105.35 -105.35 -105.35 -105.35 -105.35 -105.35\n",
      "  -105.35 -105.35 -105.35 -105.35 -105.35 -105.35 -105.35 -105.35 -105.35\n",
      "  -105.35 -105.35 -105.35 -105.35 -105.35 -105.35 -105.35 -105.35 -105.35\n",
      "  -105.35]\n",
      " [-105.35 -105.35 -105.35 -105.35 -105.35 -105.35 -105.35 -105.35 -105.35\n",
      "  -105.35 -105.35 -105.35 -105.35 -105.35 -105.35 -105.35 -105.35 -105.35\n",
      "  -105.35 -105.35 -105.35 -105.35 -105.35 -105.35 -105.35 -105.35 -105.35\n",
      "  -105.35]\n",
      " [-105.35 -105.35 -105.35 -105.35 -105.35 -105.35 -105.35 -105.35 -105.35\n",
      "  -105.35 -105.35 -105.35 -105.35  -95.35  -46.35  -23.35  -23.35   50.65\n",
      "   103.65  148.65  127.65  -43.35 -105.35 -105.35 -105.35 -105.35 -105.35\n",
      "  -105.35]\n",
      " [-105.35 -105.35 -105.35 -105.35 -105.35 -105.35 -105.35 -105.35 -101.35\n",
      "    -9.35  -47.35   -2.35   41.65  115.65  148.65  149.65  131.65  128.65\n",
      "   -14.35  -66.35  -66.35  -99.35 -105.35 -105.35 -105.35 -105.35 -105.35\n",
      "  -105.35]\n",
      " [-105.35 -105.35 -105.35 -105.35 -105.35 -105.35 -105.35 -105.35   31.65\n",
      "   148.65  148.65  148.65  148.65  135.65   69.65  -27.35  -93.35 -105.35\n",
      "  -105.35 -105.35 -105.35 -105.35 -105.35 -105.35 -105.35 -105.35 -105.35\n",
      "  -105.35]\n",
      " [-105.35 -105.35 -105.35 -105.35 -105.35 -105.35 -105.35 -105.35  129.65\n",
      "   148.65   86.65   11.65  -56.35  -89.35 -105.35 -105.35 -105.35 -105.35\n",
      "  -105.35 -105.35 -105.35 -105.35 -105.35 -105.35 -105.35 -105.35 -105.35\n",
      "  -105.35]\n",
      " [-105.35 -105.35 -105.35 -105.35 -105.35 -105.35 -105.35  -74.35  136.65\n",
      "    72.65 -105.35 -105.35 -105.35 -105.35 -105.35 -105.35 -105.35 -105.35\n",
      "  -105.35 -105.35 -105.35 -105.35 -105.35 -105.35 -105.35 -105.35 -105.35\n",
      "  -105.35]\n",
      " [-105.35 -105.35 -105.35 -105.35 -105.35 -105.35  -92.35  119.65  139.65\n",
      "   -60.35 -105.35 -105.35 -105.35 -105.35 -105.35 -105.35 -105.35 -105.35\n",
      "  -105.35 -105.35 -105.35 -105.35 -105.35 -105.35 -105.35 -105.35 -105.35\n",
      "  -105.35]\n",
      " [-105.35 -105.35 -105.35 -105.35 -105.35 -105.35  -77.35  148.65  108.65\n",
      "  -105.35 -105.35 -105.35  -98.35  -85.35  -85.35  -89.35 -105.35 -105.35\n",
      "  -105.35 -105.35 -105.35 -105.35 -105.35 -105.35 -105.35 -105.35 -105.35\n",
      "  -105.35]\n",
      " [-105.35 -105.35 -105.35 -105.35 -105.35 -105.35   12.65  148.65  108.65\n",
      "   -44.35  -26.35   18.65   94.65  148.65  148.65  131.65   70.65   70.65\n",
      "    32.65   32.65  -74.35 -105.35 -105.35 -105.35 -105.35 -105.35 -105.35\n",
      "  -105.35]\n",
      " [-105.35 -105.35 -105.35 -105.35 -105.35  -95.35  108.65  148.65  145.65\n",
      "   143.65  124.65  108.65   40.65   11.65   11.65   12.65   11.65   78.65\n",
      "   108.65  123.65  137.65   35.65 -105.35 -105.35 -105.35 -105.35 -105.35\n",
      "  -105.35]\n",
      " [-105.35 -105.35 -105.35 -105.35 -105.35  -46.35  148.65  148.65   57.65\n",
      "   -24.35  -82.35 -105.35 -105.35 -105.35 -105.35 -105.35 -105.35 -105.35\n",
      "  -105.35  -82.35   73.65  143.65   59.65  -97.35 -105.35 -105.35 -105.35\n",
      "  -105.35]\n",
      " [-105.35 -105.35 -105.35 -105.35 -105.35 -105.35  -29.35 -105.35 -105.35\n",
      "  -105.35 -105.35 -105.35 -105.35 -105.35 -105.35 -105.35 -105.35 -105.35\n",
      "  -105.35 -105.35  -82.35   64.65  148.65   -2.35 -105.35 -105.35 -105.35\n",
      "  -105.35]\n",
      " [-105.35 -105.35 -105.35 -105.35 -105.35 -105.35 -105.35 -105.35 -105.35\n",
      "  -105.35 -105.35 -105.35 -105.35 -105.35 -105.35 -105.35 -105.35 -105.35\n",
      "  -105.35 -105.35 -105.35  -70.35  148.65  126.65  -78.35 -105.35 -105.35\n",
      "  -105.35]\n",
      " [-105.35 -105.35 -105.35 -105.35 -105.35 -105.35 -105.35 -105.35 -105.35\n",
      "  -105.35 -105.35 -105.35 -105.35 -105.35 -105.35 -105.35 -105.35 -105.35\n",
      "  -105.35 -105.35 -105.35  -85.35  148.65  148.65  -47.35 -105.35 -105.35\n",
      "  -105.35]\n",
      " [-105.35 -105.35 -105.35 -105.35 -105.35 -105.35 -105.35 -105.35 -105.35\n",
      "  -105.35 -105.35 -105.35 -105.35 -105.35 -105.35 -105.35 -105.35 -105.35\n",
      "  -105.35 -105.35 -105.35  -95.35  106.65  148.65  -47.35 -105.35 -105.35\n",
      "  -105.35]\n",
      " [-105.35 -105.35 -105.35 -105.35 -105.35 -105.35 -105.35 -105.35 -105.35\n",
      "  -105.35 -105.35 -105.35 -105.35 -105.35 -105.35 -105.35 -105.35 -105.35\n",
      "  -105.35 -105.35 -105.35  -89.35  130.65  148.65  -47.35 -105.35 -105.35\n",
      "  -105.35]\n",
      " [-105.35 -105.35 -105.35 -105.35 -105.35 -105.35   -2.35  -27.35 -105.35\n",
      "  -105.35 -105.35 -105.35 -105.35 -105.35 -105.35 -105.35 -105.35 -105.35\n",
      "  -105.35 -105.35  -91.35   43.65  148.65   86.65 -105.35 -105.35 -105.35\n",
      "  -105.35]\n",
      " [-105.35 -105.35 -105.35 -105.35 -105.35  -77.35  127.65  -27.35 -105.35\n",
      "  -105.35 -105.35 -105.35 -105.35 -105.35 -105.35 -105.35 -105.35 -105.35\n",
      "  -105.35  -51.35   43.65  148.65  104.65  -80.35 -105.35 -105.35 -105.35\n",
      "  -105.35]\n",
      " [-105.35 -105.35 -105.35 -105.35 -105.35  -46.35  148.65    2.65 -105.35\n",
      "  -105.35 -105.35 -105.35 -105.35 -105.35 -105.35 -105.35  -98.35  -26.35\n",
      "    25.65  130.65  148.65   73.65  -81.35 -105.35 -105.35 -105.35 -105.35\n",
      "  -105.35]\n",
      " [-105.35 -105.35 -105.35 -105.35 -105.35  -55.35  142.65  142.65   38.65\n",
      "    31.65   31.65   -5.35   31.65   31.65   69.65   92.65  130.65  148.65\n",
      "   126.65   70.65  -10.35 -102.35 -105.35 -105.35 -105.35 -105.35 -105.35\n",
      "  -105.35]\n",
      " [-105.35 -105.35 -105.35 -105.35 -105.35 -105.35  -48.35   49.65  140.65\n",
      "   148.65  148.65  148.65  148.65  148.65   72.65   50.65   49.65   20.65\n",
      "   -78.35 -105.35 -105.35 -105.35 -105.35 -105.35 -105.35 -105.35 -105.35\n",
      "  -105.35]\n",
      " [-105.35 -105.35 -105.35 -105.35 -105.35 -105.35 -105.35 -105.35 -105.35\n",
      "  -105.35 -105.35 -105.35 -105.35 -105.35 -105.35 -105.35 -105.35 -105.35\n",
      "  -105.35 -105.35 -105.35 -105.35 -105.35 -105.35 -105.35 -105.35 -105.35\n",
      "  -105.35]\n",
      " [-105.35 -105.35 -105.35 -105.35 -105.35 -105.35 -105.35 -105.35 -105.35\n",
      "  -105.35 -105.35 -105.35 -105.35 -105.35 -105.35 -105.35 -105.35 -105.35\n",
      "  -105.35 -105.35 -105.35 -105.35 -105.35 -105.35 -105.35 -105.35 -105.35\n",
      "  -105.35]\n",
      " [-105.35 -105.35 -105.35 -105.35 -105.35 -105.35 -105.35 -105.35 -105.35\n",
      "  -105.35 -105.35 -105.35 -105.35 -105.35 -105.35 -105.35 -105.35 -105.35\n",
      "  -105.35 -105.35 -105.35 -105.35 -105.35 -105.35 -105.35 -105.35 -105.35\n",
      "  -105.35]\n",
      " [-105.35 -105.35 -105.35 -105.35 -105.35 -105.35 -105.35 -105.35 -105.35\n",
      "  -105.35 -105.35 -105.35 -105.35 -105.35 -105.35 -105.35 -105.35 -105.35\n",
      "  -105.35 -105.35 -105.35 -105.35 -105.35 -105.35 -105.35 -105.35 -105.35\n",
      "  -105.35]]\n"
     ]
    }
   ],
   "source": [
    "# 発展的話題\n",
    "index = 33400\n",
    "image = X_train[index].reshape(28,28)\n",
    "image = image.astype(np.float) # float型に変換\n",
    "image -= 105.35 # 意図的に負の小数値を作り出してみる\n",
    "#plt.imshow(image, 'gray', vmin=0,vmax=255)\n",
    "plt.imshow(image, 'gray',)\n",
    "plt.title('label : {}'.format(y_train[index]))\n",
    "plt.show()\n",
    "print(image) # 値を確認"
   ]
  },
  {
   "cell_type": "markdown",
   "metadata": {},
   "source": [
    "## 前処理"
   ]
  },
  {
   "cell_type": "code",
   "execution_count": 12,
   "metadata": {},
   "outputs": [
    {
     "name": "stdout",
     "output_type": "stream",
     "text": [
      "255.0\n",
      "0.0\n",
      "----\n",
      "1.0\n",
      "0.0\n"
     ]
    }
   ],
   "source": [
    "# 特徴量だけを、float型へ変換している\n",
    "X_train = X_train.astype(np.float)\n",
    "X_test = X_test.astype(np.float)\n",
    "\n",
    "# 最大値・最小値の確認（処理前）\n",
    "print(X_train.max())\n",
    "print(X_train.min())\n",
    "print(\"----\")\n",
    "\n",
    "# 正則化？正規化？標準化？している\n",
    "X_train /= 255\n",
    "X_test /= 255\n",
    "\n",
    "# 最大値・最小値の確認（処理前）\n",
    "print(X_train.max())\n",
    "print(X_train.min())"
   ]
  },
  {
   "cell_type": "markdown",
   "metadata": {},
   "source": [
    "<font color=\"red\">\n",
    "mnistでは正解ラベルは０から９の整数であるが、ニューラルネットワークで多クラス分類を行う際にはone-hot表現に変換する。そのため、scikit-learnのOneHotEncoderを使用する。このone-hot表現による値はそのラベルである確率を示していることから、float型で扱う。</font>"
   ]
  },
  {
   "cell_type": "code",
   "execution_count": 13,
   "metadata": {},
   "outputs": [
    {
     "data": {
      "text/plain": [
       "(60000,)"
      ]
     },
     "execution_count": 13,
     "metadata": {},
     "output_type": "execute_result"
    }
   ],
   "source": [
    "y_train.shape"
   ]
  },
  {
   "cell_type": "code",
   "execution_count": 14,
   "metadata": {},
   "outputs": [
    {
     "data": {
      "text/plain": [
       "array([0, 0, 0, ..., 9, 9, 9])"
      ]
     },
     "execution_count": 14,
     "metadata": {},
     "output_type": "execute_result"
    }
   ],
   "source": [
    "y_train"
   ]
  },
  {
   "cell_type": "markdown",
   "metadata": {},
   "source": [
    "## 学習用データ6万枚を分割する"
   ]
  },
  {
   "cell_type": "code",
   "execution_count": 15,
   "metadata": {},
   "outputs": [
    {
     "name": "stdout",
     "output_type": "stream",
     "text": [
      "X_train    : (48000, 784)\n",
      "X_val    : (12000, 784)\n"
     ]
    }
   ],
   "source": [
    "X_train, X_val, y_train, y_val = train_test_split(X_train, y_train, test_size=0.2)\n",
    "print(\"X_train    :\",X_train.shape)\n",
    "print(\"X_val    :\",X_val.shape)"
   ]
  },
  {
   "cell_type": "code",
   "execution_count": 16,
   "metadata": {},
   "outputs": [
    {
     "name": "stdout",
     "output_type": "stream",
     "text": [
      "y_train.shape    　　　　　　　　　　　　　　　　:    (48000,)\n",
      "y_train_one_hot.shape    :    (48000, 10)\n",
      "y_train_one_hot.型  　　　　　　  :    float64\n",
      "------\n",
      "y_test.shape  　　　　　　　　　　　　　　　　  :    (10000,)\n",
      "y_test_one_hot.shape    :    (10000, 10)\n",
      "y_test_one_hot.型　　　　　　    :    float64\n"
     ]
    }
   ],
   "source": [
    "#  one-hot表現にする\n",
    "from sklearn.preprocessing import OneHotEncoder\n",
    "enc = OneHotEncoder(handle_unknown='ignore', sparse=False)\n",
    "\n",
    "# 教師ラベルだけ変換する\n",
    "y_train_one_hot = enc.fit_transform(y_train[:, np.newaxis])\n",
    "y_test_one_hot = enc.transform(y_test[:, np.newaxis])\n",
    "\n",
    "# shapeの確認\n",
    "print(\"y_train.shape    　　　　　　　　　　　　　　　　:   \",y_train.shape)\n",
    "print(\"y_train_one_hot.shape    :   \",y_train_one_hot.shape)\n",
    "print(\"y_train_one_hot.型  　　　　　　  :   \",y_train_one_hot.dtype)\n",
    "print(\"------\")\n",
    "print(\"y_test.shape  　　　　　　　　　　　　　　　　  :   \",y_test.shape)\n",
    "print(\"y_test_one_hot.shape    :   \",y_test_one_hot.shape)\n",
    "print(\"y_test_one_hot.型　　　　　　    :   \",y_test_one_hot.dtype)"
   ]
  },
  {
   "cell_type": "code",
   "execution_count": 17,
   "metadata": {},
   "outputs": [
    {
     "data": {
      "text/plain": [
       "48000"
      ]
     },
     "execution_count": 17,
     "metadata": {},
     "output_type": "execute_result"
    }
   ],
   "source": [
    "len(X_train)"
   ]
  },
  {
   "cell_type": "markdown",
   "metadata": {},
   "source": [
    "## ニューラルネットワーク分類器のクラスを作成する\n",
    "ニューラルネットワーク分類器のクラスScratchSimpleNeuralNetworkClassifierを作成する。"
   ]
  },
  {
   "cell_type": "markdown",
   "metadata": {},
   "source": [
    "## 活性化関数（フォワードプロパゲーション）"
   ]
  },
  {
   "cell_type": "code",
   "execution_count": 18,
   "metadata": {},
   "outputs": [],
   "source": [
    "# シグモイド関数\n",
    "def sigmoid(x):\n",
    "    return 1/(1+np.exp(-x))\n",
    "\n",
    "# ハイパボリックタンジェント関数\n",
    "# def tanh(x):\n",
    "#     return (np.exp(x) - np.exp(-x)) / (np.exp(x) + np.exp(-x))"
   ]
  },
  {
   "cell_type": "markdown",
   "metadata": {},
   "source": [
    "## ソフトマックス関数"
   ]
  },
  {
   "cell_type": "code",
   "execution_count": 19,
   "metadata": {},
   "outputs": [],
   "source": [
    "# ソフトマックス関数\n",
    "# def softmax_old(x):\n",
    "#     #c = np.max(x)\n",
    "#     #return np.exp(x - c)/np.sum(np.exp(x - c))\n",
    "#     return np.exp(x )/np.sum(np.exp(x ))\n",
    "\n",
    "def softmax(x):\n",
    "    if x.ndim == 2:\n",
    "        x = x.T\n",
    "        x = x - np.max(x, axis=0)\n",
    "        y = np.exp(x) / np.sum(np.exp(x), axis=0)\n",
    "        return y.T\n",
    "\n",
    "    x = x - np.max(x)\n",
    "    return np.exp(x) / np.sum(np.exp(x))\n",
    "\n",
    "#np.sum(softmax(X),axis=1) #チェック"
   ]
  },
  {
   "cell_type": "markdown",
   "metadata": {},
   "source": [
    "## 交差エントロピー誤差"
   ]
  },
  {
   "cell_type": "code",
   "execution_count": 20,
   "metadata": {},
   "outputs": [],
   "source": [
    "# 交差エントロピー誤差\n",
    "# この関数はミニバッチ単位の損失値を算出するためのもの。１件（1行）単位の損失を出している訳ではない\n",
    "# この「sum」は、この関数に入ってきたデータ数全部の値を足している。それを件数で割っている\n",
    "# つまり、学習曲線をミニバッチ単位で描画したいためのものである。\n",
    "# もし、１件単位で損失値を算出したいのであれば、np.sumではaxis=1にしてあげれば、行単位・１件単　の損失値が算出できる\n",
    "def cross_entropy_error(y_pred, y_train):\n",
    "    if y_pred.ndim == 1:\n",
    "        y_train = y_train.reshape(1, y_train.size)\n",
    "        y_pred = y_pred.reshape(1, y_pred.size)\n",
    "    \n",
    "    batch_size = y_pred.shape[0]\n",
    "    #print(y_train * np.log(y_pred)) \n",
    "    # c = y_train * np.log(y_pred)\n",
    "    #print(c.shape) \n",
    "    #print(c)\n",
    "    #print(c.sum())\n",
    "    \n",
    "    # １件単位で損失値を算出したい場合\n",
    "    #return -np.sum(y_train * np.log(y_pred), axis=1)\n",
    "\n",
    "    #ミニバッチ単位の損失\n",
    "    return -np.sum(y_train * np.log(y_pred + 1e-7)) / batch_size"
   ]
  },
  {
   "cell_type": "markdown",
   "metadata": {},
   "source": [
    "## ミニバッチ処理"
   ]
  },
  {
   "cell_type": "code",
   "execution_count": 21,
   "metadata": {},
   "outputs": [],
   "source": [
    "class GetMiniBatch():\n",
    "    \"\"\"\n",
    "    ミニバッチを取得するイテレータ\n",
    "    \n",
    "    Parameters\n",
    "    ---------------------\n",
    "    X　:　学習データ\n",
    "    y　:　正解値\n",
    "    batch_size : int\n",
    "    seed : int　　　NumPyの乱数のシード\n",
    "    \n",
    "    ---------------------\n",
    "    for文で呼び出すと以下の２つを返す\n",
    "    mini_X  : 学習データのミニバッチ \n",
    "    mini_y  : 正解値のミニバッチ\n",
    "    \"\"\"\n",
    "    \n",
    "    def __init__(self, X, y, batch_size=10, seed=0):\n",
    "        \n",
    "        # バッチサイズを指定\n",
    "        self.batch_size = batch_size\n",
    "        \n",
    "        # ランダムに並べ換える\n",
    "        np.random.seed(seed)\n",
    "        \n",
    "        # 48,000行、列？のベクトルが作成される\n",
    "        # 中身は1から48,000の整数値がランダムにセットされる\n",
    "        # なるほど、名前からしてそうだね。シャッフルインデックス。。\n",
    "        shuffle_index = np.random.permutation(np.arange(X.shape[0]))\n",
    "        \n",
    "        self.X = X[shuffle_index]\n",
    "        self.y = y[shuffle_index]\n",
    "        self._counter = 0\n",
    "        \n",
    "        # イテレーション数を計算する\n",
    "        # 48,000行/10 = 4,800回となる\n",
    "        # np.ceilは切り上げする関数\n",
    "        self._stop = np.ceil(X.shape[0]/self.batch_size).astype(np.int)\n",
    "        \n",
    "    def __len__(self):\n",
    "        # len()が使われたときの処理\n",
    "        return self._stop\n",
    "        \n",
    "    def __iter__(self):\n",
    "        return self\n",
    "        \n",
    "    def __next__(self):\n",
    "            \n",
    "        # for文で呼ばれた際のループごとの処理\n",
    "        if self._counter >= self._stop:\n",
    "                \n",
    "            # 最後まで進んだら終了\n",
    "            self._counter = 0 # カウンターをリセット\n",
    "            raise StopIteration()\n",
    "        \n",
    "        \n",
    "        p0 = self._counter*self.batch_size\n",
    "        p1 = self._counter*self.batch_size + self.batch_size\n",
    "            \n",
    "        self._counter = self._counter + 1\n",
    "            \n",
    "        return self.X[p0:p1], self.y[p0:p1]\n",
    "        "
   ]
  },
  {
   "cell_type": "markdown",
   "metadata": {},
   "source": [
    "## 重みの初期値\n",
    "## NNスクラッチ\n",
    "## フォワードプロパゲーション\n",
    "## バックプロパゲーション"
   ]
  },
  {
   "cell_type": "code",
   "execution_count": 22,
   "metadata": {},
   "outputs": [],
   "source": [
    "class ScratchSimpleNeuralNetworkClassifier():\n",
    "    \"\"\"\n",
    "    シンプルな３層ニューラルネットワーク分類器\n",
    "    \"\"\"\n",
    "    \n",
    "    def __init__(self, verbose, sigma, lr, epoch):\n",
    "        self.verbose = verbose\n",
    "        \n",
    "        # softmaxの出力（予測値）\n",
    "        self.y_pred = None\n",
    "        \n",
    "        #sigma\n",
    "        self.sigma = sigma\n",
    "        \n",
    "        # 学習率\n",
    "        self.lr = lr\n",
    "        \n",
    "        # エポック\n",
    "        self.epoch = epoch\n",
    "        \n",
    "        # 教師データ（one-hot vector）\n",
    "        self.y_train_one_hot = None\n",
    "        \n",
    "        # 重み・バイアス\n",
    "        self.w1 = self.sigma*np.random.randn(784, 400)\n",
    "        self.w2 = self.sigma*np.random.randn(400, 200)\n",
    "        self.w3 = self.sigma*np.random.randn(200, 10)\n",
    "        self.b1 = self.sigma*np.random.randn(400)\n",
    "        self.b2 = self.sigma*np.random.randn(200)\n",
    "        self.b3 = self.sigma*np.random.randn(10)\n",
    "        \n",
    "        # 損失値\n",
    "        self.loss = None\n",
    "        \n",
    "        # 損失表(ミニバッチ毎)\n",
    "        self.loss_list = []\n",
    "        \n",
    "        # 損失表（エポック毎）\n",
    "        self.loss_list_epoch = []\n",
    "        \n",
    "        # 予測値表\n",
    "        self.pred_list = []\n",
    "    \n",
    "    def fit(self, X_train, y_train_one_hot, X_val=None, y_val=None):\n",
    "        \"\"\"\n",
    "        ニューラルネットワーク分類器を学習する\n",
    "        \n",
    "        \"\"\"\n",
    "        self.y_train_one_hot = y_train_one_hot\n",
    "        \n",
    "        #エポックのループ\n",
    "        for i in range(self.epoch):\n",
    "        \n",
    "            # ミニバッチ単位でデータを確保\n",
    "            get_mini_batch = GetMiniBatch(X_train, y_train_one_hot, batch_size=10, seed=0)\n",
    "\n",
    "            # ミニバッチ単位で勾配更新\n",
    "            for mini_X_train, mini_y_train in get_mini_batch:\n",
    "\n",
    "                # 1層目  ############################################\n",
    "                # (10, 784) * (784, 400)  =>  (10, 400)   +   (400,) => (10, 400)\n",
    "                rayer1_pre = np.dot(mini_X_train, self.w1) + self.b1\n",
    "\n",
    "                # 活性化関数　：　シグモイド\n",
    "                #rayer1_out = sigmoid(rayer1_pre)\n",
    "\n",
    "                # 活性化関数　：　ハイパボリック\n",
    "                # (10, 400)　　・・・シェイプは変わらず\n",
    "                rayer1_out = np.tanh(rayer1_pre)\n",
    "\n",
    "                # 2層目  ############################################\n",
    "                #  (10, 400) * (400, 200)  =>  (10, 200)  + (200, )  => (10, 200)\n",
    "                rayer2_pre = np.dot(rayer1_out, self.w2) + self.b2\n",
    "\n",
    "                # 活性化関数　：　シグモイド\n",
    "                #rayer2_out = sigmoid(rayer2_pre)\n",
    "\n",
    "                # 活性化関数　：　ハイパボリック\n",
    "                # (10, 200)　・・・シェイプは変わらず\n",
    "                rayer2_out = np.tanh(rayer2_pre)\n",
    "\n",
    "                # 3層目  ############################################\n",
    "                #  (10, 200) * (200, 10)  =>  (10, 10)  + (10, )  => (10, 10)\n",
    "                rayer3_pre = np.dot(rayer2_out, self.w3) + self.b3\n",
    "\n",
    "                # 活性化関数　：　ソフトマックス\n",
    "                # (10, 10) ・・・シェイプは変わらず\n",
    "                # これが予測値(Z3)となる\n",
    "                rayer3_out = softmax(rayer3_pre)\n",
    "\n",
    "                # 損失関数で、ミニバッチ単位の誤差を算出する\n",
    "                # スカラー値となる\n",
    "                self.loss = cross_entropy_error(rayer3_out, mini_y_train)\n",
    "\n",
    "                # 損失値表\n",
    "                self.loss_list.append(self.loss)\n",
    "\n",
    "                # ここから誤差逆伝播する####################################\n",
    "                # 予測ラベル  -  正解ラベル  ∂L/∂A3\n",
    "                # これに学習率を掛ければ良い\n",
    "\n",
    "                ######3層目######\n",
    "                # b3の勾配 (10, 10) - (10, 10) => (10, 10)\n",
    "                delta_A3 = rayer3_out - mini_y_train\n",
    "\n",
    "                # B3の勾配\n",
    "                delta_B3 = delta_A3\n",
    "\n",
    "                # w3の勾配(200, 10)  <=   (200, 10) * (10, 10)\n",
    "                delta_w3 = np.dot(rayer2_out.T, delta_A3)\n",
    "\n",
    "                ######2層目######\n",
    "                # z2（つまりrayer2_out）でLを微分した値  ∂L/∂z2\n",
    "                # (10, 10) * (10, 200) => (10, 200)\n",
    "                delta_z2 = np.dot(delta_A3, self.w3.T)\n",
    "\n",
    "                # ∂L/∂A2 = ∂L/∂z2 * (1 - tanh(A2)**2)\n",
    "                #(10, 200) アダマール積 (10, 200) => (10, 200)\n",
    "                delta_A2 = delta_z2 * (1 - np.tanh(rayer2_pre)**2)\n",
    "\n",
    "                # ∂L/∂B2 = ∂L/∂A2   (10, 200)\n",
    "                delta_B2 = delta_A2\n",
    "\n",
    "                # w2の勾配 (400, 200)   <=  (400, 10) ,(10, 200)\n",
    "                delta_w2 = np.dot(rayer1_out.T, delta_A2)\n",
    "\n",
    "                ######1層目######\n",
    "                # ∂L/∂z1(つまり(rayer1_out))　(10, 400)  <= (10, 200), (200, 400)\n",
    "                delta_z1 = np.dot(delta_A2, self.w2.T)\n",
    "\n",
    "                # (10, 400)アダマール積(10, 400)   => (10, 400)\n",
    "                delta_A1 = delta_z1 * (1 - np.tanh(rayer1_pre)**2)\n",
    "\n",
    "                # ∂L/∂B1 = ∂L/∂A1   (10, 400)\n",
    "                delta_B1 =  delta_A1\n",
    "\n",
    "                # w1の勾配(784, 400)　   <=    (784, 10) * (10, 400)\n",
    "                delta_w1 = np.dot(mini_X_train.T, delta_A1)\n",
    "\n",
    "                # 1層目の更新\n",
    "                self.w1, self.b1 = self._update_wb(self.w1, self.b1, delta_w1, delta_B1)\n",
    "                self.w2, self.b2 = self._update_wb(self.w2, self.b2, delta_w2, delta_B2)\n",
    "                self.w3, self.b3 = self._update_wb(self.w3, self.b3, delta_w3, delta_B3)\n",
    "            \n",
    "            self.loss_list_epoch.append(self.loss)\n",
    "\n",
    "\n",
    "            #if self.verbose:\n",
    "                #verboseをTrueにした際は学習過程などを出力する\n",
    "                #print()\n",
    "            #pass\n",
    "\n",
    "    def _update_wb(self, w, b, delta_w, delta_b):\n",
    "        #　重みの更新\n",
    "        w = w - self.lr * (delta_w)\n",
    "        \n",
    "        # バイアスの更新\n",
    "        delta_b = np.average(delta_b, axis=0)\n",
    "        b = b - self.lr * (delta_b)\n",
    "        \n",
    "        return w, b\n",
    "    \n",
    "    \n",
    "    # 推定処理\n",
    "    def predict(self, X):\n",
    "        \"\"\"\n",
    "        ニューラルネットワーク分類器を使い推定する\n",
    "        \"\"\"\n",
    "        \n",
    "        # 1層目  ############################################\n",
    "        rayer1_pre = np.dot(X, self.w1) + self.b1\n",
    "        rayer1_out = np.tanh(rayer1_pre)\n",
    "\n",
    "        # 2層目  ############################################\n",
    "        rayer2_pre = np.dot(rayer1_out, self.w2) + self.b2\n",
    "        rayer2_out = np.tanh(rayer2_pre)\n",
    "\n",
    "        # 3層目  ############################################\n",
    "        rayer3_pre = np.dot(rayer2_out, self.w3) + self.b3\n",
    "        rayer3_out = softmax(rayer3_pre)\n",
    "        \n",
    "        rayer3_out = np.argmax(rayer3_out, axis=1)\n",
    "\n",
    "        #print(rayer3_out)\n",
    "        #print(\"rayer3_outのシェイプ　　：　　　\",rayer3_out.shape)\n",
    "        \n",
    "        return rayer3_out"
   ]
  },
  {
   "cell_type": "markdown",
   "metadata": {},
   "source": [
    "### ケース1"
   ]
  },
  {
   "cell_type": "code",
   "execution_count": 23,
   "metadata": {},
   "outputs": [],
   "source": [
    "# ケース１\n",
    "# sigma = 0.01\n",
    "# 学習率 = 0.0001\n",
    "# epoch = 20\n",
    "ssnnc1 = ScratchSimpleNeuralNetworkClassifier(verbose=True, sigma=0.01, lr=0.0001, epoch=20)\n",
    "ssnnc1.fit(X_train, y_train_one_hot)"
   ]
  },
  {
   "cell_type": "code",
   "execution_count": 24,
   "metadata": {},
   "outputs": [
    {
     "data": {
      "text/plain": [
       "96000"
      ]
     },
     "execution_count": 24,
     "metadata": {},
     "output_type": "execute_result"
    }
   ],
   "source": [
    "# 1エポック（4,800回のミニバッチ）を２０エポック回したので、96,000回、ミニバッチを回しました。\n",
    "len(ssnnc1.loss_list)"
   ]
  },
  {
   "cell_type": "markdown",
   "metadata": {},
   "source": [
    "## 学習曲線のプロット"
   ]
  },
  {
   "cell_type": "code",
   "execution_count": 25,
   "metadata": {},
   "outputs": [
    {
     "data": {
      "image/png": "[encoded data removed]",
      "text/plain": [
       "<Figure size 432x288 with 1 Axes>"
      ]
     },
     "metadata": {
      "needs_background": "light"
     },
     "output_type": "display_data"
    }
   ],
   "source": [
    "# エポック毎のlossを描画\n",
    "# lossが下がっていることがわかる！　うまく学習できているようです\n",
    "plt.plot(ssnnc1.loss_list_epoch)\n",
    "plt.show()"
   ]
  },
  {
   "cell_type": "code",
   "execution_count": 26,
   "metadata": {},
   "outputs": [
    {
     "data": {
      "image/png": "[encoded data removed]",
      "text/plain": [
       "<Figure size 432x288 with 1 Axes>"
      ]
     },
     "metadata": {
      "needs_background": "light"
     },
     "output_type": "display_data"
    }
   ],
   "source": [
    "# ミニバッチ単位だとなんだかよく分からないグラフになります。なぜこんなにブレるのか上手く説明できません。\n",
    "plt.plot(ssnnc1.loss_list)\n",
    "plt.show()"
   ]
  },
  {
   "cell_type": "markdown",
   "metadata": {},
   "source": [
    "## 予測（推定）してみる"
   ]
  },
  {
   "cell_type": "code",
   "execution_count": 27,
   "metadata": {},
   "outputs": [
    {
     "data": {
      "text/plain": [
       "0.01444506293508081"
      ]
     },
     "execution_count": 27,
     "metadata": {},
     "output_type": "execute_result"
    }
   ],
   "source": [
    "# 最小のロスを確認\n",
    "min(ssnnc1.loss_list)"
   ]
  },
  {
   "cell_type": "code",
   "execution_count": 28,
   "metadata": {},
   "outputs": [],
   "source": [
    "# 1.2万毎を予測した\n",
    "y_pred1 = ssnnc1.predict(X_val)"
   ]
  },
  {
   "cell_type": "markdown",
   "metadata": {},
   "source": [
    "## 評価してみる"
   ]
  },
  {
   "cell_type": "code",
   "execution_count": 29,
   "metadata": {},
   "outputs": [],
   "source": [
    "from sklearn.metrics import accuracy_score"
   ]
  },
  {
   "cell_type": "code",
   "execution_count": 30,
   "metadata": {},
   "outputs": [
    {
     "data": {
      "text/plain": [
       "0.9078333333333334"
      ]
     },
     "execution_count": 30,
     "metadata": {},
     "output_type": "execute_result"
    }
   ],
   "source": [
    "# 予測結果は９０％を超えました。\n",
    "acc1 = accuracy_score(y_val, y_pred1)\n",
    "acc1"
   ]
  },
  {
   "cell_type": "markdown",
   "metadata": {},
   "source": [
    "# チューニング"
   ]
  },
  {
   "cell_type": "markdown",
   "metadata": {},
   "source": [
    "### ケース2\n",
    "sigma、学習率、エポック共に、ケース１よりも下げて（値自体はあげて）みる。結果が悪くなることを予測しました。"
   ]
  },
  {
   "cell_type": "code",
   "execution_count": 31,
   "metadata": {},
   "outputs": [],
   "source": [
    "# ケース２\n",
    "# sigma = 0.1\n",
    "# 学習率 = 0.01\n",
    "# epoch = 10\n",
    "ssnnc2 = ScratchSimpleNeuralNetworkClassifier(verbose=True, sigma=0.1, lr=0.01, epoch=10)\n",
    "ssnnc2.fit(X_train, y_train_one_hot)"
   ]
  },
  {
   "cell_type": "code",
   "execution_count": 32,
   "metadata": {},
   "outputs": [
    {
     "data": {
      "image/png": "[encoded data removed]",
      "text/plain": [
       "<Figure size 432x288 with 1 Axes>"
      ]
     },
     "metadata": {
      "needs_background": "light"
     },
     "output_type": "display_data"
    }
   ],
   "source": [
    "# エポック毎のlossを描画\n",
    "# 過学習を起こしているのかな。lossの値が低すぎるように思う\n",
    "plt.plot(ssnnc2.loss_list_epoch)\n",
    "plt.show()"
   ]
  },
  {
   "cell_type": "code",
   "execution_count": 33,
   "metadata": {},
   "outputs": [
    {
     "data": {
      "image/png": "[encoded data removed]",
      "text/plain": [
       "<Figure size 432x288 with 1 Axes>"
      ]
     },
     "metadata": {
      "needs_background": "light"
     },
     "output_type": "display_data"
    }
   ],
   "source": [
    "# ミニバッチ単位のlossを描画\n",
    "plt.plot(ssnnc2.loss_list)\n",
    "plt.show()"
   ]
  },
  {
   "cell_type": "code",
   "execution_count": 48,
   "metadata": {},
   "outputs": [
    {
     "data": {
      "text/plain": [
       "2.062403775027759e-07"
      ]
     },
     "execution_count": 48,
     "metadata": {},
     "output_type": "execute_result"
    }
   ],
   "source": [
    "# 最小のロスを確認\n",
    "min(ssnnc2.loss_list)"
   ]
  },
  {
   "cell_type": "code",
   "execution_count": 34,
   "metadata": {},
   "outputs": [],
   "source": [
    "# 予測値を取得する\n",
    "y_pred2 = ssnnc2.predict(X_val)"
   ]
  },
  {
   "cell_type": "code",
   "execution_count": 35,
   "metadata": {},
   "outputs": [
    {
     "data": {
      "text/plain": [
       "0.98025"
      ]
     },
     "execution_count": 35,
     "metadata": {},
     "output_type": "execute_result"
    }
   ],
   "source": [
    "# 予測結果はなんと97%\n",
    "acc2 = accuracy_score(y_val, y_pred2)\n",
    "acc2"
   ]
  },
  {
   "cell_type": "markdown",
   "metadata": {},
   "source": [
    "### ケース3\n",
    "ケース２では、粗いハイパーパラメータで実施したところ、どうやら過学習しているように見える。今回はsigmaの値だけを上げて（数値自体は下げる）みる。"
   ]
  },
  {
   "cell_type": "code",
   "execution_count": 36,
   "metadata": {},
   "outputs": [],
   "source": [
    "# ケース３\n",
    "# sigma = 0.01\n",
    "# 学習率 = 0.01\n",
    "# epoch = 10\n",
    "ssnnc3 = ScratchSimpleNeuralNetworkClassifier(verbose=True, sigma=0.01, lr=0.01, epoch=10)\n",
    "ssnnc3.fit(X_train, y_train_one_hot)"
   ]
  },
  {
   "cell_type": "code",
   "execution_count": 37,
   "metadata": {},
   "outputs": [
    {
     "data": {
      "image/png": "[encoded data removed]",
      "text/plain": [
       "<Figure size 432x288 with 1 Axes>"
      ]
     },
     "metadata": {
      "needs_background": "light"
     },
     "output_type": "display_data"
    }
   ],
   "source": [
    "# エポック毎のlossを描画\n",
    "# うーん、初回のlossの数値が低い。0に張り付いている。\n",
    "plt.plot(ssnnc3.loss_list_epoch)\n",
    "plt.show()"
   ]
  },
  {
   "cell_type": "code",
   "execution_count": 38,
   "metadata": {},
   "outputs": [
    {
     "data": {
      "text/plain": [
       "3.2075088600251034e-07"
      ]
     },
     "execution_count": 38,
     "metadata": {},
     "output_type": "execute_result"
    }
   ],
   "source": [
    "# 最小のロスを確認\n",
    "min(ssnnc3.loss_list)"
   ]
  },
  {
   "cell_type": "code",
   "execution_count": 39,
   "metadata": {},
   "outputs": [
    {
     "data": {
      "image/png": "[encoded data removed]",
      "text/plain": [
       "<Figure size 432x288 with 1 Axes>"
      ]
     },
     "metadata": {
      "needs_background": "light"
     },
     "output_type": "display_data"
    }
   ],
   "source": [
    "# ミニバッチ単位のlossを描画\n",
    "plt.plot(ssnnc3.loss_list)\n",
    "plt.show()"
   ]
  },
  {
   "cell_type": "code",
   "execution_count": 40,
   "metadata": {},
   "outputs": [],
   "source": [
    "# 予測値を取得する\n",
    "y_pred3 = ssnnc3.predict(X_val)"
   ]
  },
  {
   "cell_type": "code",
   "execution_count": 41,
   "metadata": {},
   "outputs": [
    {
     "data": {
      "text/plain": [
       "0.976"
      ]
     },
     "execution_count": 41,
     "metadata": {},
     "output_type": "execute_result"
    }
   ],
   "source": [
    "# 予測結果は９７％超え。ミニバッチ図は相変わらずだめ。ケース４では学習率を一桁下げて0.0０1で再度実行\n",
    "acc3 = accuracy_score(y_val, y_pred3)\n",
    "acc3"
   ]
  },
  {
   "cell_type": "markdown",
   "metadata": {},
   "source": [
    "### ケース4\n",
    "ケース３でもまだ過学習しているように見える。学習率をもう一桁下げてみる。"
   ]
  },
  {
   "cell_type": "code",
   "execution_count": 42,
   "metadata": {},
   "outputs": [],
   "source": [
    "# ケース４\n",
    "# sigma = 0.01\n",
    "# 学習率 = 0.001\n",
    "# epoch = 10\n",
    "ssnnc4 = ScratchSimpleNeuralNetworkClassifier(verbose=True, sigma=0.01, lr=0.001, epoch=10)\n",
    "ssnnc4.fit(X_train, y_train_one_hot)"
   ]
  },
  {
   "cell_type": "code",
   "execution_count": 43,
   "metadata": {},
   "outputs": [
    {
     "data": {
      "image/png": "[encoded data removed]",
      "text/plain": [
       "<Figure size 432x288 with 1 Axes>"
      ]
     },
     "metadata": {
      "needs_background": "light"
     },
     "output_type": "display_data"
    }
   ],
   "source": [
    "# エポック毎のlossを描画\n",
    "plt.plot(ssnnc4.loss_list_epoch)\n",
    "plt.show()"
   ]
  },
  {
   "cell_type": "code",
   "execution_count": 49,
   "metadata": {},
   "outputs": [
    {
     "data": {
      "text/plain": [
       "0.0016934277857983578"
      ]
     },
     "execution_count": 49,
     "metadata": {},
     "output_type": "execute_result"
    }
   ],
   "source": [
    "# 最小のロスを確認\n",
    "min(ssnnc4.loss_list)"
   ]
  },
  {
   "cell_type": "code",
   "execution_count": 45,
   "metadata": {},
   "outputs": [
    {
     "data": {
      "image/png": "[encoded data removed]",
      "text/plain": [
       "<Figure size 432x288 with 1 Axes>"
      ]
     },
     "metadata": {
      "needs_background": "light"
     },
     "output_type": "display_data"
    }
   ],
   "source": [
    "# ミニバッチ単位のlossを描画\n",
    "plt.plot(ssnnc4.loss_list)\n",
    "plt.show()"
   ]
  },
  {
   "cell_type": "code",
   "execution_count": 46,
   "metadata": {},
   "outputs": [],
   "source": [
    "# 予測値を取得する\n",
    "y_pred4 = ssnnc4.predict(X_val)"
   ]
  },
  {
   "cell_type": "code",
   "execution_count": 60,
   "metadata": {},
   "outputs": [
    {
     "data": {
      "text/plain": [
       "0.9589166666666666"
      ]
     },
     "execution_count": 60,
     "metadata": {},
     "output_type": "execute_result"
    }
   ],
   "source": [
    "# 予測結果\n",
    "# なかなか良いのではないでしょうか。ケース１よりも良い気がする。ただ、まだ過学習しているような気がする。\n",
    "acc4 = accuracy_score(y_val, y_pred4)\n",
    "acc4"
   ]
  },
  {
   "cell_type": "markdown",
   "metadata": {},
   "source": [
    "### ケース5\n",
    "ケース1との違いはエポックだけ。ケース１の半分のエポックで確認する。"
   ]
  },
  {
   "cell_type": "code",
   "execution_count": 51,
   "metadata": {},
   "outputs": [],
   "source": [
    "# ケース４\n",
    "# sigma = 0.01\n",
    "# 学習率 = 0.0001\n",
    "# epoch = 10\n",
    "ssnnc5 = ScratchSimpleNeuralNetworkClassifier(verbose=True, sigma=0.01, lr=0.0001, epoch=10)\n",
    "ssnnc5.fit(X_train, y_train_one_hot)"
   ]
  },
  {
   "cell_type": "code",
   "execution_count": 52,
   "metadata": {},
   "outputs": [
    {
     "data": {
      "image/png": "[encoded data removed]",
      "text/plain": [
       "<Figure size 432x288 with 1 Axes>"
      ]
     },
     "metadata": {
      "needs_background": "light"
     },
     "output_type": "display_data"
    }
   ],
   "source": [
    "# エポック毎のlossを描画\n",
    "plt.plot(ssnnc5.loss_list_epoch)\n",
    "plt.show()"
   ]
  },
  {
   "cell_type": "code",
   "execution_count": 61,
   "metadata": {},
   "outputs": [
    {
     "data": {
      "text/plain": [
       "0.03763934686530308"
      ]
     },
     "execution_count": 61,
     "metadata": {},
     "output_type": "execute_result"
    }
   ],
   "source": [
    "# 最小のロスを確認\n",
    "min(ssnnc5.loss_list)"
   ]
  },
  {
   "cell_type": "code",
   "execution_count": 62,
   "metadata": {},
   "outputs": [
    {
     "data": {
      "image/png": "[encoded data removed]",
      "text/plain": [
       "<Figure size 432x288 with 1 Axes>"
      ]
     },
     "metadata": {
      "needs_background": "light"
     },
     "output_type": "display_data"
    }
   ],
   "source": [
    "# ミニバッチ単位のlossを描画\n",
    "plt.plot(ssnnc5.loss_list)\n",
    "plt.show()"
   ]
  },
  {
   "cell_type": "code",
   "execution_count": 63,
   "metadata": {},
   "outputs": [],
   "source": [
    "# 予測値を取得する\n",
    "y_pred5 = ssnnc5.predict(X_val)"
   ]
  },
  {
   "cell_type": "code",
   "execution_count": 64,
   "metadata": {},
   "outputs": [
    {
     "data": {
      "text/plain": [
       "0.88375"
      ]
     },
     "execution_count": 64,
     "metadata": {},
     "output_type": "execute_result"
    }
   ],
   "source": [
    "# 予測結果\n",
    "# ケース１とケース５が良いのではないでしょうか。学習率が荒いと過学習してしまうようです。\n",
    "acc5 = accuracy_score(y_val, y_pred5)\n",
    "acc5"
   ]
  },
  {
   "cell_type": "markdown",
   "metadata": {},
   "source": [
    "# 誤分類の確認（オプション）\n",
    "ケース1の結果の学習済みモデルを使用"
   ]
  },
  {
   "cell_type": "code",
   "execution_count": 65,
   "metadata": {},
   "outputs": [
    {
     "data": {
      "image/png": "[encoded data removed]",
      "text/plain": [
       "<Figure size 432x432 with 36 Axes>"
      ]
     },
     "metadata": {},
     "output_type": "display_data"
    }
   ],
   "source": [
    "\"\"\"\n",
    "誤分類結果を並べて表示する。画像の上の表示は「推定結果／正解」である\n",
    "\n",
    "y_pred : 推定値のndarray\n",
    "y_val  :  検証用データの正解ラベル\n",
    "X_val  :  検証用データの特徴量\n",
    "\"\"\"\n",
    "\n",
    "num = 36\n",
    "\n",
    "true_false = y_pred1 == y_val\n",
    "false_list = np.where(true_false==False)[0].astype(np.int)\n",
    "\n",
    "if false_list.shape[0] < num:\n",
    "    num = false_list.shape[0]\n",
    "    \n",
    "fig = plt.figure(figsize=(6, 6))\n",
    "fig.subplots_adjust(left=0, right=0.8, bottom=0, top=0.8, hspace=1, wspace=0.5)\n",
    "\n",
    "for i in range(num):\n",
    "    ax = fig.add_subplot(6, 6, i + 1, xticks=[], yticks=[])\n",
    "    ax.set_title(\"{} / {}\".format(y_pred1[false_list[i]], y_val[false_list[i]]))\n",
    "    ax.imshow(X_val.reshape(-1, 28, 28)[false_list[i]], cmap='gray')\n",
    "\n"
   ]
  },
  {
   "cell_type": "markdown",
   "metadata": {},
   "source": [
    "# 説明"
   ]
  },
  {
   "cell_type": "markdown",
   "metadata": {},
   "source": [
    "【ニューラルネットワークの仕組み】  \n",
    "人間の脳の仕組みを利用してコンピュータに応用したものです。ニューラルネットワークは機械学習のおけるアルゴリズムの１つです。\n"
   ]
  },
  {
   "cell_type": "markdown",
   "metadata": {},
   "source": [
    "【バックプロパゲーションとは何か】  \n",
    "予測値と正解ラベルとの差（誤差）を元にして、各層の重みパラメータとバイアスを微調整していく処理のことです。\n",
    "各層の「重みW」および「バイアスB」それぞれで、「損失関数L」を偏微分してあげて、その偏微分（＝傾き）を小さくするように「重みW」と「バイアスB」を微調整することをバックプロパゲーション（誤差逆伝搬）と言います。手法としては、「数値微分」と「計算グラフ」で行う方法があります。今回の実装は「計算グラフ（連鎖率）」で行いました。計算グラフの方が数値微分よりも処理が高速に行えます。"
   ]
  },
  {
   "cell_type": "markdown",
   "metadata": {},
   "source": [
    "【活性化関数の役割とは何か】  \n",
    "今回の課題では、全結合（np.dot(X,W)+B）で行った結果を「０＜全結合の結果値＜１」の間に分布させている。全結合した値をそのまま次の層の入力とするのではなく、活性化関数で変換して上げることで、脳の仕組みに似せているのだと思います。\n",
    "\n"
   ]
  }
 ],
 "metadata": {
  "kernelspec": {
   "display_name": "Python 3",
   "language": "python",
   "name": "python3"
  },
  "language_info": {
   "codemirror_mode": {
    "name": "ipython",
    "version": 3
   },
   "file_extension": ".py",
   "mimetype": "text/x-python",
   "name": "python",
   "nbconvert_exporter": "python",
   "pygments_lexer": "ipython3",
   "version": "3.6.6"
  },
  "toc": {
   "base_numbering": 1,
   "nav_menu": {},
   "number_sections": false,
   "sideBar": true,
   "skip_h1_title": false,
   "title_cell": "Table of Contents",
   "title_sidebar": "Contents",
   "toc_cell": false,
   "toc_position": {},
   "toc_section_display": true,
   "toc_window_display": false
  }
 },
 "nbformat": 4,
 "nbformat_minor": 2
}
